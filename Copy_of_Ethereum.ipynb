{
  "nbformat": 4,
  "nbformat_minor": 0,
  "metadata": {
    "colab": {
      "name": "Copy of Ethereum.ipynb",
      "provenance": [],
      "collapsed_sections": [],
      "authorship_tag": "ABX9TyP1HYtlQN5WzED63apOQHyG",
      "include_colab_link": true
    },
    "kernelspec": {
      "name": "python3",
      "display_name": "Python 3"
    },
    "language_info": {
      "name": "python"
    }
  },
  "cells": [
    {
      "cell_type": "markdown",
      "metadata": {
        "id": "view-in-github",
        "colab_type": "text"
      },
      "source": [
        "<a href=\"https://colab.research.google.com/github/Skurmes/Data-Science-Project/blob/EtherFile/Copy_of_Ethereum.ipynb\" target=\"_parent\"><img src=\"https://colab.research.google.com/assets/colab-badge.svg\" alt=\"Open In Colab\"/></a>"
      ]
    },
    {
      "cell_type": "code",
      "metadata": {
        "id": "Z2ZFPyiUG6vr"
      },
      "source": [
        "#Ethereum Data Analysis Chart"
      ],
      "execution_count": null,
      "outputs": []
    },
    {
      "cell_type": "code",
      "metadata": {
        "id": "FdWzzOriHUzY"
      },
      "source": [
        "#Import the libraries\n",
        "\n",
        "import numpy as np\n",
        "import pandas as pd\n",
        "import datetime as dt\n",
        "import matplotlib.pyplot as plt\n",
        "import yfinance as yf\n",
        "import dataframes as df\n",
        "\n",
        "from fbprophet import Prophet\n",
        "from sklearn.linear_model import LinearRegression\n",
        "from sklearn.model_selection import train_test_split"
      ],
      "execution_count": 43,
      "outputs": []
    },
    {
      "cell_type": "code",
      "metadata": {
        "colab": {
          "resources": {
            "http://localhost:8080/nbextensions/google.colab/files.js": {
              "data": "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",
              "ok": true,
              "headers": [
                [
                  "content-type",
                  "application/javascript"
                ]
              ],
              "status": 200,
              "status_text": ""
            }
          },
          "base_uri": "https://localhost:8080/",
          "height": 38
        },
        "id": "0spnon_GHbSI",
        "outputId": "9335c050-1eca-49de-cc72-c731f129d6c1"
      },
      "source": [
        "#Loading the data\n",
        "\n",
        "from google.colab import files\n",
        "upload = files.upload()"
      ],
      "execution_count": null,
      "outputs": [
        {
          "output_type": "display_data",
          "data": {
            "text/html": [
              "\n",
              "     <input type=\"file\" id=\"files-5970ba6b-e823-4aae-8a47-125878eb6931\" name=\"files[]\" multiple disabled\n",
              "        style=\"border:none\" />\n",
              "     <output id=\"result-5970ba6b-e823-4aae-8a47-125878eb6931\">\n",
              "      Upload widget is only available when the cell has been executed in the\n",
              "      current browser session. Please rerun this cell to enable.\n",
              "      </output>\n",
              "      <script src=\"/nbextensions/google.colab/files.js\"></script> "
            ],
            "text/plain": [
              "<IPython.core.display.HTML object>"
            ]
          },
          "metadata": {
            "tags": []
          }
        }
      ]
    },
    {
      "cell_type": "code",
      "metadata": {
        "id": "xggbBei4Hr85"
      },
      "source": [
        "#Storing the data into Dataframes\n",
        "df_ETH = pd.read_csv('ETH-USD (1).csv')"
      ],
      "execution_count": null,
      "outputs": []
    },
    {
      "cell_type": "code",
      "metadata": {
        "colab": {
          "base_uri": "https://localhost:8080/",
          "height": 419
        },
        "id": "XIMiIHvrHsTH",
        "outputId": "4d1b66d2-292d-4371-c2e7-1e06a09f7a46"
      },
      "source": [
        "#Printing the data\n",
        "df_ETH"
      ],
      "execution_count": null,
      "outputs": [
        {
          "output_type": "execute_result",
          "data": {
            "text/html": [
              "<div>\n",
              "<style scoped>\n",
              "    .dataframe tbody tr th:only-of-type {\n",
              "        vertical-align: middle;\n",
              "    }\n",
              "\n",
              "    .dataframe tbody tr th {\n",
              "        vertical-align: top;\n",
              "    }\n",
              "\n",
              "    .dataframe thead th {\n",
              "        text-align: right;\n",
              "    }\n",
              "</style>\n",
              "<table border=\"1\" class=\"dataframe\">\n",
              "  <thead>\n",
              "    <tr style=\"text-align: right;\">\n",
              "      <th></th>\n",
              "      <th>Date</th>\n",
              "      <th>Open</th>\n",
              "      <th>High</th>\n",
              "      <th>Low</th>\n",
              "      <th>Close</th>\n",
              "      <th>Adj Close</th>\n",
              "      <th>Volume</th>\n",
              "    </tr>\n",
              "  </thead>\n",
              "  <tbody>\n",
              "    <tr>\n",
              "      <th>0</th>\n",
              "      <td>2020-06-23</td>\n",
              "      <td>242.537018</td>\n",
              "      <td>244.864410</td>\n",
              "      <td>239.759735</td>\n",
              "      <td>244.142151</td>\n",
              "      <td>244.142151</td>\n",
              "      <td>6.624530e+09</td>\n",
              "    </tr>\n",
              "    <tr>\n",
              "      <th>1</th>\n",
              "      <td>2020-06-24</td>\n",
              "      <td>244.185928</td>\n",
              "      <td>248.508026</td>\n",
              "      <td>232.807739</td>\n",
              "      <td>235.772461</td>\n",
              "      <td>235.772461</td>\n",
              "      <td>8.815030e+09</td>\n",
              "    </tr>\n",
              "    <tr>\n",
              "      <th>2</th>\n",
              "      <td>2020-06-25</td>\n",
              "      <td>235.702850</td>\n",
              "      <td>236.053406</td>\n",
              "      <td>230.296600</td>\n",
              "      <td>232.944489</td>\n",
              "      <td>232.944489</td>\n",
              "      <td>7.010426e+09</td>\n",
              "    </tr>\n",
              "    <tr>\n",
              "      <th>3</th>\n",
              "      <td>2020-06-26</td>\n",
              "      <td>232.877487</td>\n",
              "      <td>233.901932</td>\n",
              "      <td>229.259460</td>\n",
              "      <td>229.668045</td>\n",
              "      <td>229.668045</td>\n",
              "      <td>7.187490e+09</td>\n",
              "    </tr>\n",
              "    <tr>\n",
              "      <th>4</th>\n",
              "      <td>2020-06-27</td>\n",
              "      <td>229.631485</td>\n",
              "      <td>232.493423</td>\n",
              "      <td>220.564575</td>\n",
              "      <td>222.959793</td>\n",
              "      <td>222.959793</td>\n",
              "      <td>6.918381e+09</td>\n",
              "    </tr>\n",
              "    <tr>\n",
              "      <th>...</th>\n",
              "      <td>...</td>\n",
              "      <td>...</td>\n",
              "      <td>...</td>\n",
              "      <td>...</td>\n",
              "      <td>...</td>\n",
              "      <td>...</td>\n",
              "      <td>...</td>\n",
              "    </tr>\n",
              "    <tr>\n",
              "      <th>361</th>\n",
              "      <td>2021-06-19</td>\n",
              "      <td>2235.159180</td>\n",
              "      <td>2278.415039</td>\n",
              "      <td>2168.885010</td>\n",
              "      <td>2178.499023</td>\n",
              "      <td>2178.499023</td>\n",
              "      <td>1.876585e+10</td>\n",
              "    </tr>\n",
              "    <tr>\n",
              "      <th>362</th>\n",
              "      <td>2021-06-20</td>\n",
              "      <td>2171.337891</td>\n",
              "      <td>2275.382813</td>\n",
              "      <td>2049.962646</td>\n",
              "      <td>2246.364502</td>\n",
              "      <td>2246.364502</td>\n",
              "      <td>2.253593e+10</td>\n",
              "    </tr>\n",
              "    <tr>\n",
              "      <th>363</th>\n",
              "      <td>2021-06-21</td>\n",
              "      <td>2245.317871</td>\n",
              "      <td>2259.464111</td>\n",
              "      <td>1867.185425</td>\n",
              "      <td>1888.447510</td>\n",
              "      <td>1888.447510</td>\n",
              "      <td>3.374517e+10</td>\n",
              "    </tr>\n",
              "    <tr>\n",
              "      <th>364</th>\n",
              "      <td>2021-06-22</td>\n",
              "      <td>1886.667603</td>\n",
              "      <td>1993.159790</td>\n",
              "      <td>1707.600586</td>\n",
              "      <td>1874.950073</td>\n",
              "      <td>1874.950073</td>\n",
              "      <td>3.554725e+10</td>\n",
              "    </tr>\n",
              "    <tr>\n",
              "      <th>365</th>\n",
              "      <td>2021-06-23</td>\n",
              "      <td>1872.709961</td>\n",
              "      <td>2037.858887</td>\n",
              "      <td>1827.571533</td>\n",
              "      <td>2000.787476</td>\n",
              "      <td>2000.787476</td>\n",
              "      <td>3.250619e+10</td>\n",
              "    </tr>\n",
              "  </tbody>\n",
              "</table>\n",
              "<p>366 rows × 7 columns</p>\n",
              "</div>"
            ],
            "text/plain": [
              "           Date         Open  ...    Adj Close        Volume\n",
              "0    2020-06-23   242.537018  ...   244.142151  6.624530e+09\n",
              "1    2020-06-24   244.185928  ...   235.772461  8.815030e+09\n",
              "2    2020-06-25   235.702850  ...   232.944489  7.010426e+09\n",
              "3    2020-06-26   232.877487  ...   229.668045  7.187490e+09\n",
              "4    2020-06-27   229.631485  ...   222.959793  6.918381e+09\n",
              "..          ...          ...  ...          ...           ...\n",
              "361  2021-06-19  2235.159180  ...  2178.499023  1.876585e+10\n",
              "362  2021-06-20  2171.337891  ...  2246.364502  2.253593e+10\n",
              "363  2021-06-21  2245.317871  ...  1888.447510  3.374517e+10\n",
              "364  2021-06-22  1886.667603  ...  1874.950073  3.554725e+10\n",
              "365  2021-06-23  1872.709961  ...  2000.787476  3.250619e+10\n",
              "\n",
              "[366 rows x 7 columns]"
            ]
          },
          "metadata": {
            "tags": []
          },
          "execution_count": 73
        }
      ]
    },
    {
      "cell_type": "code",
      "metadata": {
        "colab": {
          "base_uri": "https://localhost:8080/",
          "height": 297
        },
        "id": "RTG2UeNtNFQ-",
        "outputId": "82371362-205b-430a-b34d-bfce452b369f"
      },
      "source": [
        "#Statistical labeling\n",
        "df_ETH.describe()\n"
      ],
      "execution_count": null,
      "outputs": [
        {
          "output_type": "execute_result",
          "data": {
            "text/html": [
              "<div>\n",
              "<style scoped>\n",
              "    .dataframe tbody tr th:only-of-type {\n",
              "        vertical-align: middle;\n",
              "    }\n",
              "\n",
              "    .dataframe tbody tr th {\n",
              "        vertical-align: top;\n",
              "    }\n",
              "\n",
              "    .dataframe thead th {\n",
              "        text-align: right;\n",
              "    }\n",
              "</style>\n",
              "<table border=\"1\" class=\"dataframe\">\n",
              "  <thead>\n",
              "    <tr style=\"text-align: right;\">\n",
              "      <th></th>\n",
              "      <th>Open</th>\n",
              "      <th>High</th>\n",
              "      <th>Low</th>\n",
              "      <th>Close</th>\n",
              "      <th>Adj Close</th>\n",
              "      <th>Volume</th>\n",
              "    </tr>\n",
              "  </thead>\n",
              "  <tbody>\n",
              "    <tr>\n",
              "      <th>count</th>\n",
              "      <td>363.000000</td>\n",
              "      <td>363.000000</td>\n",
              "      <td>363.000000</td>\n",
              "      <td>363.000000</td>\n",
              "      <td>363.000000</td>\n",
              "      <td>3.630000e+02</td>\n",
              "    </tr>\n",
              "    <tr>\n",
              "      <th>mean</th>\n",
              "      <td>1204.019287</td>\n",
              "      <td>1256.404665</td>\n",
              "      <td>1144.204369</td>\n",
              "      <td>1208.678389</td>\n",
              "      <td>1208.678389</td>\n",
              "      <td>2.367018e+10</td>\n",
              "    </tr>\n",
              "    <tr>\n",
              "      <th>std</th>\n",
              "      <td>970.136810</td>\n",
              "      <td>1019.286400</td>\n",
              "      <td>910.345591</td>\n",
              "      <td>969.682697</td>\n",
              "      <td>969.682697</td>\n",
              "      <td>1.419217e+10</td>\n",
              "    </tr>\n",
              "    <tr>\n",
              "      <th>min</th>\n",
              "      <td>222.914490</td>\n",
              "      <td>228.598282</td>\n",
              "      <td>219.472672</td>\n",
              "      <td>222.959793</td>\n",
              "      <td>222.959793</td>\n",
              "      <td>5.109033e+09</td>\n",
              "    </tr>\n",
              "    <tr>\n",
              "      <th>25%</th>\n",
              "      <td>386.373398</td>\n",
              "      <td>395.907883</td>\n",
              "      <td>374.979446</td>\n",
              "      <td>386.528228</td>\n",
              "      <td>386.528228</td>\n",
              "      <td>1.242225e+10</td>\n",
              "    </tr>\n",
              "    <tr>\n",
              "      <th>50%</th>\n",
              "      <td>638.315186</td>\n",
              "      <td>662.699097</td>\n",
              "      <td>628.334961</td>\n",
              "      <td>642.868958</td>\n",
              "      <td>642.868958</td>\n",
              "      <td>2.024132e+10</td>\n",
              "    </tr>\n",
              "    <tr>\n",
              "      <th>75%</th>\n",
              "      <td>1851.146485</td>\n",
              "      <td>1933.616760</td>\n",
              "      <td>1791.458191</td>\n",
              "      <td>1861.306579</td>\n",
              "      <td>1861.306579</td>\n",
              "      <td>3.193287e+10</td>\n",
              "    </tr>\n",
              "    <tr>\n",
              "      <th>max</th>\n",
              "      <td>4174.635742</td>\n",
              "      <td>4362.350586</td>\n",
              "      <td>3785.848633</td>\n",
              "      <td>4168.701172</td>\n",
              "      <td>4168.701172</td>\n",
              "      <td>8.448291e+10</td>\n",
              "    </tr>\n",
              "  </tbody>\n",
              "</table>\n",
              "</div>"
            ],
            "text/plain": [
              "              Open         High  ...    Adj Close        Volume\n",
              "count   363.000000   363.000000  ...   363.000000  3.630000e+02\n",
              "mean   1204.019287  1256.404665  ...  1208.678389  2.367018e+10\n",
              "std     970.136810  1019.286400  ...   969.682697  1.419217e+10\n",
              "min     222.914490   228.598282  ...   222.959793  5.109033e+09\n",
              "25%     386.373398   395.907883  ...   386.528228  1.242225e+10\n",
              "50%     638.315186   662.699097  ...   642.868958  2.024132e+10\n",
              "75%    1851.146485  1933.616760  ...  1861.306579  3.193287e+10\n",
              "max    4174.635742  4362.350586  ...  4168.701172  8.448291e+10\n",
              "\n",
              "[8 rows x 6 columns]"
            ]
          },
          "metadata": {
            "tags": []
          },
          "execution_count": 74
        }
      ]
    },
    {
      "cell_type": "code",
      "metadata": {
        "id": "LRpQKiQYMCAB"
      },
      "source": [
        "\n",
        "df_ETH.dropna(inplace=True)\n",
        "df_ETH"
      ],
      "execution_count": null,
      "outputs": []
    },
    {
      "cell_type": "code",
      "metadata": {
        "colab": {
          "base_uri": "https://localhost:8080/",
          "height": 419
        },
        "id": "Eq6ob36X6KYB",
        "outputId": "b2f6ed4a-244a-4383-d8dd-9e5d3b5a97b1"
      },
      "source": [
        "#Now including the Prediction Column\n",
        "projection = 15\n",
        "\n",
        "df_ETH['Prediction'] = df_ETH[['Close']].shift(-projection)\n",
        "\n",
        "df_ETH"
      ],
      "execution_count": null,
      "outputs": [
        {
          "output_type": "execute_result",
          "data": {
            "text/html": [
              "<div>\n",
              "<style scoped>\n",
              "    .dataframe tbody tr th:only-of-type {\n",
              "        vertical-align: middle;\n",
              "    }\n",
              "\n",
              "    .dataframe tbody tr th {\n",
              "        vertical-align: top;\n",
              "    }\n",
              "\n",
              "    .dataframe thead th {\n",
              "        text-align: right;\n",
              "    }\n",
              "</style>\n",
              "<table border=\"1\" class=\"dataframe\">\n",
              "  <thead>\n",
              "    <tr style=\"text-align: right;\">\n",
              "      <th></th>\n",
              "      <th>Date</th>\n",
              "      <th>Open</th>\n",
              "      <th>High</th>\n",
              "      <th>Low</th>\n",
              "      <th>Close</th>\n",
              "      <th>Adj Close</th>\n",
              "      <th>Volume</th>\n",
              "      <th>Prediction</th>\n",
              "    </tr>\n",
              "  </thead>\n",
              "  <tbody>\n",
              "    <tr>\n",
              "      <th>0</th>\n",
              "      <td>2020-06-23</td>\n",
              "      <td>242.537018</td>\n",
              "      <td>244.864410</td>\n",
              "      <td>239.759735</td>\n",
              "      <td>244.142151</td>\n",
              "      <td>244.142151</td>\n",
              "      <td>6.624530e+09</td>\n",
              "      <td>246.670013</td>\n",
              "    </tr>\n",
              "    <tr>\n",
              "      <th>1</th>\n",
              "      <td>2020-06-24</td>\n",
              "      <td>244.185928</td>\n",
              "      <td>248.508026</td>\n",
              "      <td>232.807739</td>\n",
              "      <td>235.772461</td>\n",
              "      <td>235.772461</td>\n",
              "      <td>8.815030e+09</td>\n",
              "      <td>243.015961</td>\n",
              "    </tr>\n",
              "    <tr>\n",
              "      <th>2</th>\n",
              "      <td>2020-06-25</td>\n",
              "      <td>235.702850</td>\n",
              "      <td>236.053406</td>\n",
              "      <td>230.296600</td>\n",
              "      <td>232.944489</td>\n",
              "      <td>232.944489</td>\n",
              "      <td>7.010426e+09</td>\n",
              "      <td>240.984985</td>\n",
              "    </tr>\n",
              "    <tr>\n",
              "      <th>3</th>\n",
              "      <td>2020-06-26</td>\n",
              "      <td>232.877487</td>\n",
              "      <td>233.901932</td>\n",
              "      <td>229.259460</td>\n",
              "      <td>229.668045</td>\n",
              "      <td>229.668045</td>\n",
              "      <td>7.187490e+09</td>\n",
              "      <td>239.458176</td>\n",
              "    </tr>\n",
              "    <tr>\n",
              "      <th>4</th>\n",
              "      <td>2020-06-27</td>\n",
              "      <td>229.631485</td>\n",
              "      <td>232.493423</td>\n",
              "      <td>220.564575</td>\n",
              "      <td>222.959793</td>\n",
              "      <td>222.959793</td>\n",
              "      <td>6.918381e+09</td>\n",
              "      <td>242.131699</td>\n",
              "    </tr>\n",
              "    <tr>\n",
              "      <th>...</th>\n",
              "      <td>...</td>\n",
              "      <td>...</td>\n",
              "      <td>...</td>\n",
              "      <td>...</td>\n",
              "      <td>...</td>\n",
              "      <td>...</td>\n",
              "      <td>...</td>\n",
              "      <td>...</td>\n",
              "    </tr>\n",
              "    <tr>\n",
              "      <th>349</th>\n",
              "      <td>2021-06-07</td>\n",
              "      <td>2713.047363</td>\n",
              "      <td>2845.185059</td>\n",
              "      <td>2583.995117</td>\n",
              "      <td>2590.263184</td>\n",
              "      <td>2590.263184</td>\n",
              "      <td>3.060011e+10</td>\n",
              "      <td>NaN</td>\n",
              "    </tr>\n",
              "    <tr>\n",
              "      <th>350</th>\n",
              "      <td>2021-06-08</td>\n",
              "      <td>2594.602295</td>\n",
              "      <td>2620.846191</td>\n",
              "      <td>2315.546631</td>\n",
              "      <td>2517.438721</td>\n",
              "      <td>2517.438721</td>\n",
              "      <td>4.190974e+10</td>\n",
              "      <td>NaN</td>\n",
              "    </tr>\n",
              "    <tr>\n",
              "      <th>351</th>\n",
              "      <td>2021-06-09</td>\n",
              "      <td>2510.199219</td>\n",
              "      <td>2625.070557</td>\n",
              "      <td>2412.197754</td>\n",
              "      <td>2608.267090</td>\n",
              "      <td>2608.267090</td>\n",
              "      <td>3.607583e+10</td>\n",
              "      <td>NaN</td>\n",
              "    </tr>\n",
              "    <tr>\n",
              "      <th>352</th>\n",
              "      <td>2021-06-10</td>\n",
              "      <td>2611.142578</td>\n",
              "      <td>2619.957764</td>\n",
              "      <td>2435.401611</td>\n",
              "      <td>2471.518555</td>\n",
              "      <td>2471.518555</td>\n",
              "      <td>2.875363e+10</td>\n",
              "      <td>NaN</td>\n",
              "    </tr>\n",
              "    <tr>\n",
              "      <th>353</th>\n",
              "      <td>2021-06-11</td>\n",
              "      <td>2472.858887</td>\n",
              "      <td>2495.414795</td>\n",
              "      <td>2326.869629</td>\n",
              "      <td>2353.768799</td>\n",
              "      <td>2353.768799</td>\n",
              "      <td>2.483256e+10</td>\n",
              "      <td>NaN</td>\n",
              "    </tr>\n",
              "  </tbody>\n",
              "</table>\n",
              "<p>348 rows × 8 columns</p>\n",
              "</div>"
            ],
            "text/plain": [
              "           Date         Open  ...        Volume  Prediction\n",
              "0    2020-06-23   242.537018  ...  6.624530e+09  246.670013\n",
              "1    2020-06-24   244.185928  ...  8.815030e+09  243.015961\n",
              "2    2020-06-25   235.702850  ...  7.010426e+09  240.984985\n",
              "3    2020-06-26   232.877487  ...  7.187490e+09  239.458176\n",
              "4    2020-06-27   229.631485  ...  6.918381e+09  242.131699\n",
              "..          ...          ...  ...           ...         ...\n",
              "349  2021-06-07  2713.047363  ...  3.060011e+10         NaN\n",
              "350  2021-06-08  2594.602295  ...  4.190974e+10         NaN\n",
              "351  2021-06-09  2510.199219  ...  3.607583e+10         NaN\n",
              "352  2021-06-10  2611.142578  ...  2.875363e+10         NaN\n",
              "353  2021-06-11  2472.858887  ...  2.483256e+10         NaN\n",
              "\n",
              "[348 rows x 8 columns]"
            ]
          },
          "metadata": {
            "tags": []
          },
          "execution_count": 96
        }
      ]
    },
    {
      "cell_type": "code",
      "metadata": {
        "id": "ytkvkqL372wW"
      },
      "source": [
        "\n",
        "X = np.array(df_ETH[['Close']])\n",
        "\n",
        "X = X[:-projection]\n",
        "print(X)"
      ],
      "execution_count": null,
      "outputs": []
    },
    {
      "cell_type": "code",
      "metadata": {
        "id": "T1n0l_Lc8LpH"
      },
      "source": [
        "\n",
        "y = df_ETH['Prediction'].values\n",
        "y = y[:-projection]\n",
        "      \n",
        "print(y)"
      ],
      "execution_count": null,
      "outputs": []
    },
    {
      "cell_type": "code",
      "metadata": {
        "id": "RT3TF6N_9rzE"
      },
      "source": [
        "x_train, x_test, y_train, y_test = train_test_split(X, y, test_size = .15)"
      ],
      "execution_count": null,
      "outputs": []
    },
    {
      "cell_type": "code",
      "metadata": {
        "colab": {
          "base_uri": "https://localhost:8080/"
        },
        "id": "QnnhNH8b8kiG",
        "outputId": "f9b2bec4-cd99-4f79-cce2-2f7569bd3951"
      },
      "source": [
        "\n",
        "linReg = LinearRegression()\n",
        "linReg.fit(x_train, y_train)\n"
      ],
      "execution_count": null,
      "outputs": [
        {
          "output_type": "execute_result",
          "data": {
            "text/plain": [
              "LinearRegression(copy_X=True, fit_intercept=True, n_jobs=None, normalize=False)"
            ]
          },
          "metadata": {
            "tags": []
          },
          "execution_count": 101
        }
      ]
    },
    {
      "cell_type": "code",
      "metadata": {
        "colab": {
          "base_uri": "https://localhost:8080/"
        },
        "id": "50UkQbVc-AD9",
        "outputId": "c1f7a35b-718d-46ae-910b-7198befbb707"
      },
      "source": [
        "\n",
        "linReg_confidence = linReg.score(x_test, y_test)\n",
        "print('Liner Regression Confidence: ', linReg_confidence)\n"
      ],
      "execution_count": null,
      "outputs": [
        {
          "output_type": "stream",
          "text": [
            "Liner Regression Confidence:  0.8527813111654802\n"
          ],
          "name": "stdout"
        }
      ]
    },
    {
      "cell_type": "code",
      "metadata": {
        "id": "rCTiLVni-TqI"
      },
      "source": [
        "x_projection = np.array(df_ETH[['Close']])[-projection:]\n",
        "print(x_projection)"
      ],
      "execution_count": null,
      "outputs": []
    },
    {
      "cell_type": "code",
      "metadata": {
        "colab": {
          "base_uri": "https://localhost:8080/"
        },
        "id": "ZNvj35QE-7Cf",
        "outputId": "00488174-3b09-44f0-d6b5-0ec7cfa89938"
      },
      "source": [
        "#Prediction of Data results within 15% split\n",
        "linReg_prediction = linReg.predict(x_projection)\n",
        "print(linReg_prediction)"
      ],
      "execution_count": null,
      "outputs": [
        {
          "output_type": "stream",
          "text": [
            "[2414.94352401 2286.41913904 2387.84492842 2685.04217498 2610.49840722\n",
            " 2676.96746576 2813.37345309 2660.5531971  2607.80564493 2685.17716981\n",
            " 2570.89974753 2504.23132399 2587.38173698 2462.19290791 2354.39684212]\n"
          ],
          "name": "stdout"
        }
      ]
    },
    {
      "cell_type": "code",
      "metadata": {
        "id": "PPi5dHQy_MNc",
        "colab": {
          "base_uri": "https://localhost:8080/"
        },
        "outputId": "cff7efe3-9c10-4deb-c6c0-d5b9527fa46d"
      },
      "source": [
        "#Data for Crypocurrency Graph\n",
        "\n",
        "end = dt.datetime.now()\n",
        "start = dt.date(end.year - 4, end.month, end.day)\n",
        "\n",
        "tickers = ['BTC-USD', 'ETH-USD', 'DOGE-USD']\n",
        "end"
      ],
      "execution_count": 45,
      "outputs": [
        {
          "output_type": "execute_result",
          "data": {
            "text/plain": [
              "datetime.datetime(2021, 7, 2, 20, 41, 10, 658713)"
            ]
          },
          "metadata": {
            "tags": []
          },
          "execution_count": 45
        }
      ]
    },
    {
      "cell_type": "code",
      "metadata": {
        "colab": {
          "base_uri": "https://localhost:8080/",
          "height": 498
        },
        "id": "0IBF-qIN8fsM",
        "outputId": "a197b8b4-4af1-476b-c3d6-67fae4aed039"
      },
      "source": [
        "yf.download(tickers, start, end)"
      ],
      "execution_count": 46,
      "outputs": [
        {
          "output_type": "stream",
          "text": [
            "[*********************100%***********************]  3 of 3 completed\n"
          ],
          "name": "stdout"
        },
        {
          "output_type": "execute_result",
          "data": {
            "text/html": [
              "<div>\n",
              "<style scoped>\n",
              "    .dataframe tbody tr th:only-of-type {\n",
              "        vertical-align: middle;\n",
              "    }\n",
              "\n",
              "    .dataframe tbody tr th {\n",
              "        vertical-align: top;\n",
              "    }\n",
              "\n",
              "    .dataframe thead tr th {\n",
              "        text-align: left;\n",
              "    }\n",
              "\n",
              "    .dataframe thead tr:last-of-type th {\n",
              "        text-align: right;\n",
              "    }\n",
              "</style>\n",
              "<table border=\"1\" class=\"dataframe\">\n",
              "  <thead>\n",
              "    <tr>\n",
              "      <th></th>\n",
              "      <th colspan=\"3\" halign=\"left\">Adj Close</th>\n",
              "      <th colspan=\"3\" halign=\"left\">Close</th>\n",
              "      <th colspan=\"3\" halign=\"left\">High</th>\n",
              "      <th colspan=\"3\" halign=\"left\">Low</th>\n",
              "      <th colspan=\"3\" halign=\"left\">Open</th>\n",
              "      <th colspan=\"3\" halign=\"left\">Volume</th>\n",
              "    </tr>\n",
              "    <tr>\n",
              "      <th></th>\n",
              "      <th>BTC-USD</th>\n",
              "      <th>DOGE-USD</th>\n",
              "      <th>ETH-USD</th>\n",
              "      <th>BTC-USD</th>\n",
              "      <th>DOGE-USD</th>\n",
              "      <th>ETH-USD</th>\n",
              "      <th>BTC-USD</th>\n",
              "      <th>DOGE-USD</th>\n",
              "      <th>ETH-USD</th>\n",
              "      <th>BTC-USD</th>\n",
              "      <th>DOGE-USD</th>\n",
              "      <th>ETH-USD</th>\n",
              "      <th>BTC-USD</th>\n",
              "      <th>DOGE-USD</th>\n",
              "      <th>ETH-USD</th>\n",
              "      <th>BTC-USD</th>\n",
              "      <th>DOGE-USD</th>\n",
              "      <th>ETH-USD</th>\n",
              "    </tr>\n",
              "    <tr>\n",
              "      <th>Date</th>\n",
              "      <th></th>\n",
              "      <th></th>\n",
              "      <th></th>\n",
              "      <th></th>\n",
              "      <th></th>\n",
              "      <th></th>\n",
              "      <th></th>\n",
              "      <th></th>\n",
              "      <th></th>\n",
              "      <th></th>\n",
              "      <th></th>\n",
              "      <th></th>\n",
              "      <th></th>\n",
              "      <th></th>\n",
              "      <th></th>\n",
              "      <th></th>\n",
              "      <th></th>\n",
              "      <th></th>\n",
              "    </tr>\n",
              "  </thead>\n",
              "  <tbody>\n",
              "    <tr>\n",
              "      <th>2017-07-02</th>\n",
              "      <td>2506.469971</td>\n",
              "      <td>0.002481</td>\n",
              "      <td>287.987000</td>\n",
              "      <td>2506.469971</td>\n",
              "      <td>0.002481</td>\n",
              "      <td>287.987000</td>\n",
              "      <td>2514.280029</td>\n",
              "      <td>0.002645</td>\n",
              "      <td>295.509003</td>\n",
              "      <td>2394.840088</td>\n",
              "      <td>0.002253</td>\n",
              "      <td>262.519989</td>\n",
              "      <td>2436.399902</td>\n",
              "      <td>0.002638</td>\n",
              "      <td>275.122986</td>\n",
              "      <td>803747008</td>\n",
              "      <td>6310430</td>\n",
              "      <td>1123330048</td>\n",
              "    </tr>\n",
              "    <tr>\n",
              "      <th>2017-07-03</th>\n",
              "      <td>2564.060059</td>\n",
              "      <td>0.002533</td>\n",
              "      <td>282.898010</td>\n",
              "      <td>2564.060059</td>\n",
              "      <td>0.002533</td>\n",
              "      <td>282.898010</td>\n",
              "      <td>2595.000000</td>\n",
              "      <td>0.002601</td>\n",
              "      <td>291.104004</td>\n",
              "      <td>2480.469971</td>\n",
              "      <td>0.002395</td>\n",
              "      <td>281.175995</td>\n",
              "      <td>2498.560059</td>\n",
              "      <td>0.002467</td>\n",
              "      <td>288.414001</td>\n",
              "      <td>964112000</td>\n",
              "      <td>7488410</td>\n",
              "      <td>851408000</td>\n",
              "    </tr>\n",
              "    <tr>\n",
              "      <th>2017-07-04</th>\n",
              "      <td>2601.639893</td>\n",
              "      <td>0.002518</td>\n",
              "      <td>273.303009</td>\n",
              "      <td>2601.639893</td>\n",
              "      <td>0.002518</td>\n",
              "      <td>273.303009</td>\n",
              "      <td>2631.590088</td>\n",
              "      <td>0.002612</td>\n",
              "      <td>287.388000</td>\n",
              "      <td>2559.350098</td>\n",
              "      <td>0.002510</td>\n",
              "      <td>273.110992</td>\n",
              "      <td>2561.000000</td>\n",
              "      <td>0.002527</td>\n",
              "      <td>282.191010</td>\n",
              "      <td>985516032</td>\n",
              "      <td>5302360</td>\n",
              "      <td>687691008</td>\n",
              "    </tr>\n",
              "    <tr>\n",
              "      <th>2017-07-05</th>\n",
              "      <td>2601.989990</td>\n",
              "      <td>0.002714</td>\n",
              "      <td>268.773987</td>\n",
              "      <td>2601.989990</td>\n",
              "      <td>0.002714</td>\n",
              "      <td>268.773987</td>\n",
              "      <td>2622.649902</td>\n",
              "      <td>0.002829</td>\n",
              "      <td>275.125000</td>\n",
              "      <td>2538.550049</td>\n",
              "      <td>0.002423</td>\n",
              "      <td>261.446991</td>\n",
              "      <td>2602.870117</td>\n",
              "      <td>0.002504</td>\n",
              "      <td>273.098999</td>\n",
              "      <td>941566016</td>\n",
              "      <td>17293700</td>\n",
              "      <td>790256000</td>\n",
              "    </tr>\n",
              "    <tr>\n",
              "      <th>2017-07-06</th>\n",
              "      <td>2608.560059</td>\n",
              "      <td>0.002636</td>\n",
              "      <td>270.549011</td>\n",
              "      <td>2608.560059</td>\n",
              "      <td>0.002636</td>\n",
              "      <td>270.549011</td>\n",
              "      <td>2616.719971</td>\n",
              "      <td>0.002820</td>\n",
              "      <td>278.476013</td>\n",
              "      <td>2581.689941</td>\n",
              "      <td>0.002601</td>\n",
              "      <td>265.511993</td>\n",
              "      <td>2608.100098</td>\n",
              "      <td>0.002711</td>\n",
              "      <td>268.858002</td>\n",
              "      <td>761956992</td>\n",
              "      <td>10702300</td>\n",
              "      <td>623080000</td>\n",
              "    </tr>\n",
              "    <tr>\n",
              "      <th>...</th>\n",
              "      <td>...</td>\n",
              "      <td>...</td>\n",
              "      <td>...</td>\n",
              "      <td>...</td>\n",
              "      <td>...</td>\n",
              "      <td>...</td>\n",
              "      <td>...</td>\n",
              "      <td>...</td>\n",
              "      <td>...</td>\n",
              "      <td>...</td>\n",
              "      <td>...</td>\n",
              "      <td>...</td>\n",
              "      <td>...</td>\n",
              "      <td>...</td>\n",
              "      <td>...</td>\n",
              "      <td>...</td>\n",
              "      <td>...</td>\n",
              "      <td>...</td>\n",
              "    </tr>\n",
              "    <tr>\n",
              "      <th>2021-06-28</th>\n",
              "      <td>34434.335938</td>\n",
              "      <td>0.256857</td>\n",
              "      <td>2079.657471</td>\n",
              "      <td>34434.335938</td>\n",
              "      <td>0.256857</td>\n",
              "      <td>2079.657471</td>\n",
              "      <td>35219.890625</td>\n",
              "      <td>0.266982</td>\n",
              "      <td>2139.805420</td>\n",
              "      <td>33902.074219</td>\n",
              "      <td>0.250762</td>\n",
              "      <td>1963.615479</td>\n",
              "      <td>34679.121094</td>\n",
              "      <td>0.264918</td>\n",
              "      <td>1981.386475</td>\n",
              "      <td>33892523752</td>\n",
              "      <td>1932994784</td>\n",
              "      <td>25514602841</td>\n",
              "    </tr>\n",
              "    <tr>\n",
              "      <th>2021-06-29</th>\n",
              "      <td>35867.777344</td>\n",
              "      <td>0.262769</td>\n",
              "      <td>2160.768311</td>\n",
              "      <td>35867.777344</td>\n",
              "      <td>0.262769</td>\n",
              "      <td>2160.768311</td>\n",
              "      <td>36542.109375</td>\n",
              "      <td>0.274940</td>\n",
              "      <td>2242.238770</td>\n",
              "      <td>34252.484375</td>\n",
              "      <td>0.252988</td>\n",
              "      <td>2076.240234</td>\n",
              "      <td>34475.558594</td>\n",
              "      <td>0.257061</td>\n",
              "      <td>2083.448730</td>\n",
              "      <td>37901460044</td>\n",
              "      <td>2192562738</td>\n",
              "      <td>24815124419</td>\n",
              "    </tr>\n",
              "    <tr>\n",
              "      <th>2021-06-30</th>\n",
              "      <td>35040.835938</td>\n",
              "      <td>0.254215</td>\n",
              "      <td>2274.547607</td>\n",
              "      <td>35040.835938</td>\n",
              "      <td>0.254215</td>\n",
              "      <td>2274.547607</td>\n",
              "      <td>36074.757812</td>\n",
              "      <td>0.263538</td>\n",
              "      <td>2282.989014</td>\n",
              "      <td>34086.152344</td>\n",
              "      <td>0.238268</td>\n",
              "      <td>2090.760742</td>\n",
              "      <td>35908.386719</td>\n",
              "      <td>0.263417</td>\n",
              "      <td>2164.216309</td>\n",
              "      <td>34059036099</td>\n",
              "      <td>2047763830</td>\n",
              "      <td>25828056268</td>\n",
              "    </tr>\n",
              "    <tr>\n",
              "      <th>2021-07-01</th>\n",
              "      <td>33572.117188</td>\n",
              "      <td>0.244549</td>\n",
              "      <td>2113.605469</td>\n",
              "      <td>33572.117188</td>\n",
              "      <td>0.244549</td>\n",
              "      <td>2113.605469</td>\n",
              "      <td>35035.984375</td>\n",
              "      <td>0.260092</td>\n",
              "      <td>2274.397461</td>\n",
              "      <td>32883.781250</td>\n",
              "      <td>0.238677</td>\n",
              "      <td>2081.081055</td>\n",
              "      <td>35035.984375</td>\n",
              "      <td>0.253828</td>\n",
              "      <td>2274.397461</td>\n",
              "      <td>37838957079</td>\n",
              "      <td>2463946548</td>\n",
              "      <td>29061701793</td>\n",
              "    </tr>\n",
              "    <tr>\n",
              "      <th>2021-07-02</th>\n",
              "      <td>33262.261719</td>\n",
              "      <td>0.242219</td>\n",
              "      <td>2089.521973</td>\n",
              "      <td>33262.261719</td>\n",
              "      <td>0.242219</td>\n",
              "      <td>2089.521973</td>\n",
              "      <td>33884.031250</td>\n",
              "      <td>0.246602</td>\n",
              "      <td>2134.023193</td>\n",
              "      <td>32777.351562</td>\n",
              "      <td>0.238859</td>\n",
              "      <td>2022.845459</td>\n",
              "      <td>33468.574219</td>\n",
              "      <td>0.243163</td>\n",
              "      <td>2100.873047</td>\n",
              "      <td>38078259200</td>\n",
              "      <td>1339030656</td>\n",
              "      <td>31117991936</td>\n",
              "    </tr>\n",
              "  </tbody>\n",
              "</table>\n",
              "<p>1458 rows × 18 columns</p>\n",
              "</div>"
            ],
            "text/plain": [
              "               Adj Close            ...      Volume             \n",
              "                 BTC-USD  DOGE-USD  ...    DOGE-USD      ETH-USD\n",
              "Date                                ...                         \n",
              "2017-07-02   2506.469971  0.002481  ...     6310430   1123330048\n",
              "2017-07-03   2564.060059  0.002533  ...     7488410    851408000\n",
              "2017-07-04   2601.639893  0.002518  ...     5302360    687691008\n",
              "2017-07-05   2601.989990  0.002714  ...    17293700    790256000\n",
              "2017-07-06   2608.560059  0.002636  ...    10702300    623080000\n",
              "...                  ...       ...  ...         ...          ...\n",
              "2021-06-28  34434.335938  0.256857  ...  1932994784  25514602841\n",
              "2021-06-29  35867.777344  0.262769  ...  2192562738  24815124419\n",
              "2021-06-30  35040.835938  0.254215  ...  2047763830  25828056268\n",
              "2021-07-01  33572.117188  0.244549  ...  2463946548  29061701793\n",
              "2021-07-02  33262.261719  0.242219  ...  1339030656  31117991936\n",
              "\n",
              "[1458 rows x 18 columns]"
            ]
          },
          "metadata": {
            "tags": []
          },
          "execution_count": 46
        }
      ]
    },
    {
      "cell_type": "code",
      "metadata": {
        "colab": {
          "base_uri": "https://localhost:8080/",
          "height": 467
        },
        "id": "VtPm4CnW8WRE",
        "outputId": "ae993687-5386-4114-c5f1-07520b39f739"
      },
      "source": [
        "#Seperating Ethereum Data for graphical analysis\n",
        "df_ETH = yf.download('ETH-USD', start)\n",
        "df_ETH"
      ],
      "execution_count": 86,
      "outputs": [
        {
          "output_type": "stream",
          "text": [
            "\r[*********************100%***********************]  1 of 1 completed\n"
          ],
          "name": "stdout"
        },
        {
          "output_type": "execute_result",
          "data": {
            "text/html": [
              "<div>\n",
              "<style scoped>\n",
              "    .dataframe tbody tr th:only-of-type {\n",
              "        vertical-align: middle;\n",
              "    }\n",
              "\n",
              "    .dataframe tbody tr th {\n",
              "        vertical-align: top;\n",
              "    }\n",
              "\n",
              "    .dataframe thead th {\n",
              "        text-align: right;\n",
              "    }\n",
              "</style>\n",
              "<table border=\"1\" class=\"dataframe\">\n",
              "  <thead>\n",
              "    <tr style=\"text-align: right;\">\n",
              "      <th></th>\n",
              "      <th>Open</th>\n",
              "      <th>High</th>\n",
              "      <th>Low</th>\n",
              "      <th>Close</th>\n",
              "      <th>Adj Close</th>\n",
              "      <th>Volume</th>\n",
              "    </tr>\n",
              "    <tr>\n",
              "      <th>Date</th>\n",
              "      <th></th>\n",
              "      <th></th>\n",
              "      <th></th>\n",
              "      <th></th>\n",
              "      <th></th>\n",
              "      <th></th>\n",
              "    </tr>\n",
              "  </thead>\n",
              "  <tbody>\n",
              "    <tr>\n",
              "      <th>2017-07-02</th>\n",
              "      <td>275.122986</td>\n",
              "      <td>295.509003</td>\n",
              "      <td>262.519989</td>\n",
              "      <td>287.987000</td>\n",
              "      <td>287.987000</td>\n",
              "      <td>1123330048</td>\n",
              "    </tr>\n",
              "    <tr>\n",
              "      <th>2017-07-03</th>\n",
              "      <td>288.414001</td>\n",
              "      <td>291.104004</td>\n",
              "      <td>281.175995</td>\n",
              "      <td>282.898010</td>\n",
              "      <td>282.898010</td>\n",
              "      <td>851408000</td>\n",
              "    </tr>\n",
              "    <tr>\n",
              "      <th>2017-07-04</th>\n",
              "      <td>282.191010</td>\n",
              "      <td>287.388000</td>\n",
              "      <td>273.110992</td>\n",
              "      <td>273.303009</td>\n",
              "      <td>273.303009</td>\n",
              "      <td>687691008</td>\n",
              "    </tr>\n",
              "    <tr>\n",
              "      <th>2017-07-05</th>\n",
              "      <td>273.098999</td>\n",
              "      <td>275.125000</td>\n",
              "      <td>261.446991</td>\n",
              "      <td>268.773987</td>\n",
              "      <td>268.773987</td>\n",
              "      <td>790256000</td>\n",
              "    </tr>\n",
              "    <tr>\n",
              "      <th>2017-07-06</th>\n",
              "      <td>268.858002</td>\n",
              "      <td>278.476013</td>\n",
              "      <td>265.511993</td>\n",
              "      <td>270.549011</td>\n",
              "      <td>270.549011</td>\n",
              "      <td>623080000</td>\n",
              "    </tr>\n",
              "    <tr>\n",
              "      <th>...</th>\n",
              "      <td>...</td>\n",
              "      <td>...</td>\n",
              "      <td>...</td>\n",
              "      <td>...</td>\n",
              "      <td>...</td>\n",
              "      <td>...</td>\n",
              "    </tr>\n",
              "    <tr>\n",
              "      <th>2021-06-28</th>\n",
              "      <td>1981.386475</td>\n",
              "      <td>2139.805420</td>\n",
              "      <td>1963.615479</td>\n",
              "      <td>2079.657471</td>\n",
              "      <td>2079.657471</td>\n",
              "      <td>25514602841</td>\n",
              "    </tr>\n",
              "    <tr>\n",
              "      <th>2021-06-29</th>\n",
              "      <td>2083.448730</td>\n",
              "      <td>2242.238770</td>\n",
              "      <td>2076.240234</td>\n",
              "      <td>2160.768311</td>\n",
              "      <td>2160.768311</td>\n",
              "      <td>24815124419</td>\n",
              "    </tr>\n",
              "    <tr>\n",
              "      <th>2021-06-30</th>\n",
              "      <td>2164.216309</td>\n",
              "      <td>2282.989014</td>\n",
              "      <td>2090.760742</td>\n",
              "      <td>2274.547607</td>\n",
              "      <td>2274.547607</td>\n",
              "      <td>25828056268</td>\n",
              "    </tr>\n",
              "    <tr>\n",
              "      <th>2021-07-01</th>\n",
              "      <td>2274.397461</td>\n",
              "      <td>2274.397461</td>\n",
              "      <td>2081.081055</td>\n",
              "      <td>2113.605469</td>\n",
              "      <td>2113.605469</td>\n",
              "      <td>29061701793</td>\n",
              "    </tr>\n",
              "    <tr>\n",
              "      <th>2021-07-02</th>\n",
              "      <td>2100.873047</td>\n",
              "      <td>2134.023193</td>\n",
              "      <td>2022.845459</td>\n",
              "      <td>2085.158203</td>\n",
              "      <td>2085.158203</td>\n",
              "      <td>30964852736</td>\n",
              "    </tr>\n",
              "  </tbody>\n",
              "</table>\n",
              "<p>1458 rows × 6 columns</p>\n",
              "</div>"
            ],
            "text/plain": [
              "                   Open         High  ...    Adj Close       Volume\n",
              "Date                                  ...                          \n",
              "2017-07-02   275.122986   295.509003  ...   287.987000   1123330048\n",
              "2017-07-03   288.414001   291.104004  ...   282.898010    851408000\n",
              "2017-07-04   282.191010   287.388000  ...   273.303009    687691008\n",
              "2017-07-05   273.098999   275.125000  ...   268.773987    790256000\n",
              "2017-07-06   268.858002   278.476013  ...   270.549011    623080000\n",
              "...                 ...          ...  ...          ...          ...\n",
              "2021-06-28  1981.386475  2139.805420  ...  2079.657471  25514602841\n",
              "2021-06-29  2083.448730  2242.238770  ...  2160.768311  24815124419\n",
              "2021-06-30  2164.216309  2282.989014  ...  2274.547607  25828056268\n",
              "2021-07-01  2274.397461  2274.397461  ...  2113.605469  29061701793\n",
              "2021-07-02  2100.873047  2134.023193  ...  2085.158203  30964852736\n",
              "\n",
              "[1458 rows x 6 columns]"
            ]
          },
          "metadata": {
            "tags": []
          },
          "execution_count": 86
        }
      ]
    },
    {
      "cell_type": "code",
      "metadata": {
        "colab": {
          "base_uri": "https://localhost:8080/",
          "height": 419
        },
        "id": "_YD-LgM_8WbY",
        "outputId": "9c2435e4-c528-4a24-fb76-ddc488bbe577"
      },
      "source": [
        "#Ajusting Date column to prevent errors\n",
        "df_ETH = df_ETH.reset_index()\n",
        "df_ETH"
      ],
      "execution_count": 87,
      "outputs": [
        {
          "output_type": "execute_result",
          "data": {
            "text/html": [
              "<div>\n",
              "<style scoped>\n",
              "    .dataframe tbody tr th:only-of-type {\n",
              "        vertical-align: middle;\n",
              "    }\n",
              "\n",
              "    .dataframe tbody tr th {\n",
              "        vertical-align: top;\n",
              "    }\n",
              "\n",
              "    .dataframe thead th {\n",
              "        text-align: right;\n",
              "    }\n",
              "</style>\n",
              "<table border=\"1\" class=\"dataframe\">\n",
              "  <thead>\n",
              "    <tr style=\"text-align: right;\">\n",
              "      <th></th>\n",
              "      <th>Date</th>\n",
              "      <th>Open</th>\n",
              "      <th>High</th>\n",
              "      <th>Low</th>\n",
              "      <th>Close</th>\n",
              "      <th>Adj Close</th>\n",
              "      <th>Volume</th>\n",
              "    </tr>\n",
              "  </thead>\n",
              "  <tbody>\n",
              "    <tr>\n",
              "      <th>0</th>\n",
              "      <td>2017-07-02</td>\n",
              "      <td>275.122986</td>\n",
              "      <td>295.509003</td>\n",
              "      <td>262.519989</td>\n",
              "      <td>287.987000</td>\n",
              "      <td>287.987000</td>\n",
              "      <td>1123330048</td>\n",
              "    </tr>\n",
              "    <tr>\n",
              "      <th>1</th>\n",
              "      <td>2017-07-03</td>\n",
              "      <td>288.414001</td>\n",
              "      <td>291.104004</td>\n",
              "      <td>281.175995</td>\n",
              "      <td>282.898010</td>\n",
              "      <td>282.898010</td>\n",
              "      <td>851408000</td>\n",
              "    </tr>\n",
              "    <tr>\n",
              "      <th>2</th>\n",
              "      <td>2017-07-04</td>\n",
              "      <td>282.191010</td>\n",
              "      <td>287.388000</td>\n",
              "      <td>273.110992</td>\n",
              "      <td>273.303009</td>\n",
              "      <td>273.303009</td>\n",
              "      <td>687691008</td>\n",
              "    </tr>\n",
              "    <tr>\n",
              "      <th>3</th>\n",
              "      <td>2017-07-05</td>\n",
              "      <td>273.098999</td>\n",
              "      <td>275.125000</td>\n",
              "      <td>261.446991</td>\n",
              "      <td>268.773987</td>\n",
              "      <td>268.773987</td>\n",
              "      <td>790256000</td>\n",
              "    </tr>\n",
              "    <tr>\n",
              "      <th>4</th>\n",
              "      <td>2017-07-06</td>\n",
              "      <td>268.858002</td>\n",
              "      <td>278.476013</td>\n",
              "      <td>265.511993</td>\n",
              "      <td>270.549011</td>\n",
              "      <td>270.549011</td>\n",
              "      <td>623080000</td>\n",
              "    </tr>\n",
              "    <tr>\n",
              "      <th>...</th>\n",
              "      <td>...</td>\n",
              "      <td>...</td>\n",
              "      <td>...</td>\n",
              "      <td>...</td>\n",
              "      <td>...</td>\n",
              "      <td>...</td>\n",
              "      <td>...</td>\n",
              "    </tr>\n",
              "    <tr>\n",
              "      <th>1453</th>\n",
              "      <td>2021-06-28</td>\n",
              "      <td>1981.386475</td>\n",
              "      <td>2139.805420</td>\n",
              "      <td>1963.615479</td>\n",
              "      <td>2079.657471</td>\n",
              "      <td>2079.657471</td>\n",
              "      <td>25514602841</td>\n",
              "    </tr>\n",
              "    <tr>\n",
              "      <th>1454</th>\n",
              "      <td>2021-06-29</td>\n",
              "      <td>2083.448730</td>\n",
              "      <td>2242.238770</td>\n",
              "      <td>2076.240234</td>\n",
              "      <td>2160.768311</td>\n",
              "      <td>2160.768311</td>\n",
              "      <td>24815124419</td>\n",
              "    </tr>\n",
              "    <tr>\n",
              "      <th>1455</th>\n",
              "      <td>2021-06-30</td>\n",
              "      <td>2164.216309</td>\n",
              "      <td>2282.989014</td>\n",
              "      <td>2090.760742</td>\n",
              "      <td>2274.547607</td>\n",
              "      <td>2274.547607</td>\n",
              "      <td>25828056268</td>\n",
              "    </tr>\n",
              "    <tr>\n",
              "      <th>1456</th>\n",
              "      <td>2021-07-01</td>\n",
              "      <td>2274.397461</td>\n",
              "      <td>2274.397461</td>\n",
              "      <td>2081.081055</td>\n",
              "      <td>2113.605469</td>\n",
              "      <td>2113.605469</td>\n",
              "      <td>29061701793</td>\n",
              "    </tr>\n",
              "    <tr>\n",
              "      <th>1457</th>\n",
              "      <td>2021-07-02</td>\n",
              "      <td>2100.873047</td>\n",
              "      <td>2134.023193</td>\n",
              "      <td>2022.845459</td>\n",
              "      <td>2085.158203</td>\n",
              "      <td>2085.158203</td>\n",
              "      <td>30964852736</td>\n",
              "    </tr>\n",
              "  </tbody>\n",
              "</table>\n",
              "<p>1458 rows × 7 columns</p>\n",
              "</div>"
            ],
            "text/plain": [
              "           Date         Open  ...    Adj Close       Volume\n",
              "0    2017-07-02   275.122986  ...   287.987000   1123330048\n",
              "1    2017-07-03   288.414001  ...   282.898010    851408000\n",
              "2    2017-07-04   282.191010  ...   273.303009    687691008\n",
              "3    2017-07-05   273.098999  ...   268.773987    790256000\n",
              "4    2017-07-06   268.858002  ...   270.549011    623080000\n",
              "...         ...          ...  ...          ...          ...\n",
              "1453 2021-06-28  1981.386475  ...  2079.657471  25514602841\n",
              "1454 2021-06-29  2083.448730  ...  2160.768311  24815124419\n",
              "1455 2021-06-30  2164.216309  ...  2274.547607  25828056268\n",
              "1456 2021-07-01  2274.397461  ...  2113.605469  29061701793\n",
              "1457 2021-07-02  2100.873047  ...  2085.158203  30964852736\n",
              "\n",
              "[1458 rows x 7 columns]"
            ]
          },
          "metadata": {
            "tags": []
          },
          "execution_count": 87
        }
      ]
    },
    {
      "cell_type": "code",
      "metadata": {
        "colab": {
          "base_uri": "https://localhost:8080/",
          "height": 419
        },
        "id": "hPfVFP93_Ljp",
        "outputId": "f09a0cc8-0a33-4001-9932-8e8f2b0faf30"
      },
      "source": [
        "#Labeling Column for Graph interpretation\n",
        "df_ETH[['ds', 'y']] = df_ETH[['Date', 'Adj Close']]\n",
        "df_ETH"
      ],
      "execution_count": 95,
      "outputs": [
        {
          "output_type": "execute_result",
          "data": {
            "text/html": [
              "<div>\n",
              "<style scoped>\n",
              "    .dataframe tbody tr th:only-of-type {\n",
              "        vertical-align: middle;\n",
              "    }\n",
              "\n",
              "    .dataframe tbody tr th {\n",
              "        vertical-align: top;\n",
              "    }\n",
              "\n",
              "    .dataframe thead th {\n",
              "        text-align: right;\n",
              "    }\n",
              "</style>\n",
              "<table border=\"1\" class=\"dataframe\">\n",
              "  <thead>\n",
              "    <tr style=\"text-align: right;\">\n",
              "      <th></th>\n",
              "      <th>Date</th>\n",
              "      <th>Open</th>\n",
              "      <th>High</th>\n",
              "      <th>Low</th>\n",
              "      <th>Close</th>\n",
              "      <th>Adj Close</th>\n",
              "      <th>Volume</th>\n",
              "      <th>ds</th>\n",
              "      <th>y</th>\n",
              "    </tr>\n",
              "  </thead>\n",
              "  <tbody>\n",
              "    <tr>\n",
              "      <th>0</th>\n",
              "      <td>2017-07-02</td>\n",
              "      <td>275.122986</td>\n",
              "      <td>295.509003</td>\n",
              "      <td>262.519989</td>\n",
              "      <td>287.987000</td>\n",
              "      <td>287.987000</td>\n",
              "      <td>1123330048</td>\n",
              "      <td>2017-07-02</td>\n",
              "      <td>287.987000</td>\n",
              "    </tr>\n",
              "    <tr>\n",
              "      <th>1</th>\n",
              "      <td>2017-07-03</td>\n",
              "      <td>288.414001</td>\n",
              "      <td>291.104004</td>\n",
              "      <td>281.175995</td>\n",
              "      <td>282.898010</td>\n",
              "      <td>282.898010</td>\n",
              "      <td>851408000</td>\n",
              "      <td>2017-07-03</td>\n",
              "      <td>282.898010</td>\n",
              "    </tr>\n",
              "    <tr>\n",
              "      <th>2</th>\n",
              "      <td>2017-07-04</td>\n",
              "      <td>282.191010</td>\n",
              "      <td>287.388000</td>\n",
              "      <td>273.110992</td>\n",
              "      <td>273.303009</td>\n",
              "      <td>273.303009</td>\n",
              "      <td>687691008</td>\n",
              "      <td>2017-07-04</td>\n",
              "      <td>273.303009</td>\n",
              "    </tr>\n",
              "    <tr>\n",
              "      <th>3</th>\n",
              "      <td>2017-07-05</td>\n",
              "      <td>273.098999</td>\n",
              "      <td>275.125000</td>\n",
              "      <td>261.446991</td>\n",
              "      <td>268.773987</td>\n",
              "      <td>268.773987</td>\n",
              "      <td>790256000</td>\n",
              "      <td>2017-07-05</td>\n",
              "      <td>268.773987</td>\n",
              "    </tr>\n",
              "    <tr>\n",
              "      <th>4</th>\n",
              "      <td>2017-07-06</td>\n",
              "      <td>268.858002</td>\n",
              "      <td>278.476013</td>\n",
              "      <td>265.511993</td>\n",
              "      <td>270.549011</td>\n",
              "      <td>270.549011</td>\n",
              "      <td>623080000</td>\n",
              "      <td>2017-07-06</td>\n",
              "      <td>270.549011</td>\n",
              "    </tr>\n",
              "    <tr>\n",
              "      <th>...</th>\n",
              "      <td>...</td>\n",
              "      <td>...</td>\n",
              "      <td>...</td>\n",
              "      <td>...</td>\n",
              "      <td>...</td>\n",
              "      <td>...</td>\n",
              "      <td>...</td>\n",
              "      <td>...</td>\n",
              "      <td>...</td>\n",
              "    </tr>\n",
              "    <tr>\n",
              "      <th>1453</th>\n",
              "      <td>2021-06-28</td>\n",
              "      <td>1981.386475</td>\n",
              "      <td>2139.805420</td>\n",
              "      <td>1963.615479</td>\n",
              "      <td>2079.657471</td>\n",
              "      <td>2079.657471</td>\n",
              "      <td>25514602841</td>\n",
              "      <td>2021-06-28</td>\n",
              "      <td>2079.657471</td>\n",
              "    </tr>\n",
              "    <tr>\n",
              "      <th>1454</th>\n",
              "      <td>2021-06-29</td>\n",
              "      <td>2083.448730</td>\n",
              "      <td>2242.238770</td>\n",
              "      <td>2076.240234</td>\n",
              "      <td>2160.768311</td>\n",
              "      <td>2160.768311</td>\n",
              "      <td>24815124419</td>\n",
              "      <td>2021-06-29</td>\n",
              "      <td>2160.768311</td>\n",
              "    </tr>\n",
              "    <tr>\n",
              "      <th>1455</th>\n",
              "      <td>2021-06-30</td>\n",
              "      <td>2164.216309</td>\n",
              "      <td>2282.989014</td>\n",
              "      <td>2090.760742</td>\n",
              "      <td>2274.547607</td>\n",
              "      <td>2274.547607</td>\n",
              "      <td>25828056268</td>\n",
              "      <td>2021-06-30</td>\n",
              "      <td>2274.547607</td>\n",
              "    </tr>\n",
              "    <tr>\n",
              "      <th>1456</th>\n",
              "      <td>2021-07-01</td>\n",
              "      <td>2274.397461</td>\n",
              "      <td>2274.397461</td>\n",
              "      <td>2081.081055</td>\n",
              "      <td>2113.605469</td>\n",
              "      <td>2113.605469</td>\n",
              "      <td>29061701793</td>\n",
              "      <td>2021-07-01</td>\n",
              "      <td>2113.605469</td>\n",
              "    </tr>\n",
              "    <tr>\n",
              "      <th>1457</th>\n",
              "      <td>2021-07-02</td>\n",
              "      <td>2100.873047</td>\n",
              "      <td>2134.023193</td>\n",
              "      <td>2022.845459</td>\n",
              "      <td>2085.158203</td>\n",
              "      <td>2085.158203</td>\n",
              "      <td>30964852736</td>\n",
              "      <td>2021-07-02</td>\n",
              "      <td>2085.158203</td>\n",
              "    </tr>\n",
              "  </tbody>\n",
              "</table>\n",
              "<p>1458 rows × 9 columns</p>\n",
              "</div>"
            ],
            "text/plain": [
              "           Date         Open         High  ...       Volume         ds            y\n",
              "0    2017-07-02   275.122986   295.509003  ...   1123330048 2017-07-02   287.987000\n",
              "1    2017-07-03   288.414001   291.104004  ...    851408000 2017-07-03   282.898010\n",
              "2    2017-07-04   282.191010   287.388000  ...    687691008 2017-07-04   273.303009\n",
              "3    2017-07-05   273.098999   275.125000  ...    790256000 2017-07-05   268.773987\n",
              "4    2017-07-06   268.858002   278.476013  ...    623080000 2017-07-06   270.549011\n",
              "...         ...          ...          ...  ...          ...        ...          ...\n",
              "1453 2021-06-28  1981.386475  2139.805420  ...  25514602841 2021-06-28  2079.657471\n",
              "1454 2021-06-29  2083.448730  2242.238770  ...  24815124419 2021-06-29  2160.768311\n",
              "1455 2021-06-30  2164.216309  2282.989014  ...  25828056268 2021-06-30  2274.547607\n",
              "1456 2021-07-01  2274.397461  2274.397461  ...  29061701793 2021-07-01  2113.605469\n",
              "1457 2021-07-02  2100.873047  2134.023193  ...  30964852736 2021-07-02  2085.158203\n",
              "\n",
              "[1458 rows x 9 columns]"
            ]
          },
          "metadata": {
            "tags": []
          },
          "execution_count": 95
        }
      ]
    },
    {
      "cell_type": "code",
      "metadata": {
        "colab": {
          "base_uri": "https://localhost:8080/"
        },
        "id": "tuB_Qrgg_flt",
        "outputId": "ad264ecf-cb7b-4323-cbc8-5e45d8d46da3"
      },
      "source": [
        "model = Prophet()\n",
        "\n",
        "model.fit(df_ETH)"
      ],
      "execution_count": 96,
      "outputs": [
        {
          "output_type": "stream",
          "text": [
            "INFO:fbprophet:Disabling daily seasonality. Run prophet with daily_seasonality=True to override this.\n"
          ],
          "name": "stderr"
        },
        {
          "output_type": "execute_result",
          "data": {
            "text/plain": [
              "<fbprophet.forecaster.Prophet at 0x7f47ddb3ae90>"
            ]
          },
          "metadata": {
            "tags": []
          },
          "execution_count": 96
        }
      ]
    },
    {
      "cell_type": "code",
      "metadata": {
        "id": "y9coxQKp_fsr"
      },
      "source": [
        "future = model.make_future_dataframe(365)"
      ],
      "execution_count": 90,
      "outputs": []
    },
    {
      "cell_type": "code",
      "metadata": {
        "id": "-5LUC_CE_f0p"
      },
      "source": [
        "#Data for Graph pulled from Prediction\n",
        "forecast = model.predict(future)\n",
        "forecast"
      ],
      "execution_count": null,
      "outputs": []
    },
    {
      "cell_type": "code",
      "metadata": {
        "colab": {
          "base_uri": "https://localhost:8080/",
          "height": 458
        },
        "id": "4TIOQBgC_wzN",
        "outputId": "953efee9-aa46-45e2-ece4-6a6e0e167e77"
      },
      "source": [
        "model.plot(forecast)\n",
        "plt.show"
      ],
      "execution_count": 92,
      "outputs": [
        {
          "output_type": "execute_result",
          "data": {
            "text/plain": [
              "<function matplotlib.pyplot.show>"
            ]
          },
          "metadata": {
            "tags": []
          },
          "execution_count": 92
        },
        {
          "output_type": "display_data",
          "data": {
            "image/png": "[encoded data removed]",
            "text/plain": [
              "<Figure size 720x432 with 1 Axes>"
            ]
          },
          "metadata": {
            "tags": []
          }
        }
      ]
    },
    {
      "cell_type": "code",
      "metadata": {
        "colab": {
          "base_uri": "https://localhost:8080/",
          "height": 674
        },
        "id": "bYfUzNRI_w3N",
        "outputId": "16aa3e05-6788-478e-8de6-b58570eaaab1"
      },
      "source": [
        "model.plot_components(forecast)\n",
        "plt.show"
      ],
      "execution_count": 93,
      "outputs": [
        {
          "output_type": "execute_result",
          "data": {
            "text/plain": [
              "<function matplotlib.pyplot.show>"
            ]
          },
          "metadata": {
            "tags": []
          },
          "execution_count": 93
        },
        {
          "output_type": "display_data",
          "data": {
            "image/png": "[encoded data removed]",
            "text/plain": [
              "<Figure size 648x648 with 3 Axes>"
            ]
          },
          "metadata": {
            "tags": []
          }
        }
      ]
    }
  ]
}