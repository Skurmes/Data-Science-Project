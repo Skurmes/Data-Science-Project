{
  "nbformat": 4,
  "nbformat_minor": 0,
  "metadata": {
    "colab": {
      "name": "Copy of Ethereum.ipynb",
      "provenance": [],
      "collapsed_sections": [],
      "authorship_tag": "ABX9TyOu2NsalKRe97Iq8LD1qBKs",
      "include_colab_link": true
    },
    "kernelspec": {
      "name": "python3",
      "display_name": "Python 3"
    },
    "language_info": {
      "name": "python"
    }
  },
  "cells": [
    {
      "cell_type": "markdown",
      "metadata": {
        "id": "view-in-github",
        "colab_type": "text"
      },
      "source": [
        "<a href=\"https://colab.research.google.com/github/Skurmes/Data-Science-Project/blob/Testing/Copy_of_Ethereum.ipynb\" target=\"_parent\"><img src=\"https://colab.research.google.com/assets/colab-badge.svg\" alt=\"Open In Colab\"/></a>"
      ]
    },
    {
      "cell_type": "code",
      "metadata": {
        "id": "Z2ZFPyiUG6vr"
      },
      "source": [
        "#Ethereum Data Analysis Chart"
      ],
      "execution_count": 68,
      "outputs": []
    },
    {
      "cell_type": "code",
      "metadata": {
        "id": "HLAaaMuS6AT1"
      },
      "source": [
        ""
      ],
      "execution_count": 68,
      "outputs": []
    },
    {
      "cell_type": "code",
      "metadata": {
        "id": "FdWzzOriHUzY"
      },
      "source": [
        "#Import the libraries\n",
        "\n",
        "import numpy as np\n",
        "import pandas as pd\n",
        "\n",
        "from sklearn.linear_model import LinearRegression\n",
        "from sklearn.model_selection import train_test_split"
      ],
      "execution_count": 69,
      "outputs": []
    },
    {
      "cell_type": "code",
      "metadata": {
        "colab": {
          "resources": {
            "http://localhost:8080/nbextensions/google.colab/files.js": {
              "data": "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",
              "ok": true,
              "headers": [
                [
                  "content-type",
                  "application/javascript"
                ]
              ],
              "status": 200,
              "status_text": ""
            }
          },
          "base_uri": "https://localhost:8080/",
          "height": 38
        },
        "id": "0spnon_GHbSI",
        "outputId": "9335c050-1eca-49de-cc72-c731f129d6c1"
      },
      "source": [
        "#Loading the data\n",
        "\n",
        "from google.colab import files\n",
        "upload = files.upload()"
      ],
      "execution_count": 86,
      "outputs": [
        {
          "output_type": "display_data",
          "data": {
            "text/html": [
              "\n",
              "     <input type=\"file\" id=\"files-5970ba6b-e823-4aae-8a47-125878eb6931\" name=\"files[]\" multiple disabled\n",
              "        style=\"border:none\" />\n",
              "     <output id=\"result-5970ba6b-e823-4aae-8a47-125878eb6931\">\n",
              "      Upload widget is only available when the cell has been executed in the\n",
              "      current browser session. Please rerun this cell to enable.\n",
              "      </output>\n",
              "      <script src=\"/nbextensions/google.colab/files.js\"></script> "
            ],
            "text/plain": [
              "<IPython.core.display.HTML object>"
            ]
          },
          "metadata": {
            "tags": []
          }
        }
      ]
    },
    {
      "cell_type": "code",
      "metadata": {
        "id": "xggbBei4Hr85"
      },
      "source": [
        "#Storing the data into Dataframes\n",
        "df_ETH = pd.read_csv('ETH-USD (1).csv')"
      ],
      "execution_count": 72,
      "outputs": []
    },
    {
      "cell_type": "code",
      "metadata": {
        "colab": {
          "base_uri": "https://localhost:8080/",
          "height": 419
        },
        "id": "XIMiIHvrHsTH",
        "outputId": "4d1b66d2-292d-4371-c2e7-1e06a09f7a46"
      },
      "source": [
        "#Printing the data\n",
        "df_ETH"
      ],
      "execution_count": 73,
      "outputs": [
        {
          "output_type": "execute_result",
          "data": {
            "text/html": [
              "<div>\n",
              "<style scoped>\n",
              "    .dataframe tbody tr th:only-of-type {\n",
              "        vertical-align: middle;\n",
              "    }\n",
              "\n",
              "    .dataframe tbody tr th {\n",
              "        vertical-align: top;\n",
              "    }\n",
              "\n",
              "    .dataframe thead th {\n",
              "        text-align: right;\n",
              "    }\n",
              "</style>\n",
              "<table border=\"1\" class=\"dataframe\">\n",
              "  <thead>\n",
              "    <tr style=\"text-align: right;\">\n",
              "      <th></th>\n",
              "      <th>Date</th>\n",
              "      <th>Open</th>\n",
              "      <th>High</th>\n",
              "      <th>Low</th>\n",
              "      <th>Close</th>\n",
              "      <th>Adj Close</th>\n",
              "      <th>Volume</th>\n",
              "    </tr>\n",
              "  </thead>\n",
              "  <tbody>\n",
              "    <tr>\n",
              "      <th>0</th>\n",
              "      <td>2020-06-23</td>\n",
              "      <td>242.537018</td>\n",
              "      <td>244.864410</td>\n",
              "      <td>239.759735</td>\n",
              "      <td>244.142151</td>\n",
              "      <td>244.142151</td>\n",
              "      <td>6.624530e+09</td>\n",
              "    </tr>\n",
              "    <tr>\n",
              "      <th>1</th>\n",
              "      <td>2020-06-24</td>\n",
              "      <td>244.185928</td>\n",
              "      <td>248.508026</td>\n",
              "      <td>232.807739</td>\n",
              "      <td>235.772461</td>\n",
              "      <td>235.772461</td>\n",
              "      <td>8.815030e+09</td>\n",
              "    </tr>\n",
              "    <tr>\n",
              "      <th>2</th>\n",
              "      <td>2020-06-25</td>\n",
              "      <td>235.702850</td>\n",
              "      <td>236.053406</td>\n",
              "      <td>230.296600</td>\n",
              "      <td>232.944489</td>\n",
              "      <td>232.944489</td>\n",
              "      <td>7.010426e+09</td>\n",
              "    </tr>\n",
              "    <tr>\n",
              "      <th>3</th>\n",
              "      <td>2020-06-26</td>\n",
              "      <td>232.877487</td>\n",
              "      <td>233.901932</td>\n",
              "      <td>229.259460</td>\n",
              "      <td>229.668045</td>\n",
              "      <td>229.668045</td>\n",
              "      <td>7.187490e+09</td>\n",
              "    </tr>\n",
              "    <tr>\n",
              "      <th>4</th>\n",
              "      <td>2020-06-27</td>\n",
              "      <td>229.631485</td>\n",
              "      <td>232.493423</td>\n",
              "      <td>220.564575</td>\n",
              "      <td>222.959793</td>\n",
              "      <td>222.959793</td>\n",
              "      <td>6.918381e+09</td>\n",
              "    </tr>\n",
              "    <tr>\n",
              "      <th>...</th>\n",
              "      <td>...</td>\n",
              "      <td>...</td>\n",
              "      <td>...</td>\n",
              "      <td>...</td>\n",
              "      <td>...</td>\n",
              "      <td>...</td>\n",
              "      <td>...</td>\n",
              "    </tr>\n",
              "    <tr>\n",
              "      <th>361</th>\n",
              "      <td>2021-06-19</td>\n",
              "      <td>2235.159180</td>\n",
              "      <td>2278.415039</td>\n",
              "      <td>2168.885010</td>\n",
              "      <td>2178.499023</td>\n",
              "      <td>2178.499023</td>\n",
              "      <td>1.876585e+10</td>\n",
              "    </tr>\n",
              "    <tr>\n",
              "      <th>362</th>\n",
              "      <td>2021-06-20</td>\n",
              "      <td>2171.337891</td>\n",
              "      <td>2275.382813</td>\n",
              "      <td>2049.962646</td>\n",
              "      <td>2246.364502</td>\n",
              "      <td>2246.364502</td>\n",
              "      <td>2.253593e+10</td>\n",
              "    </tr>\n",
              "    <tr>\n",
              "      <th>363</th>\n",
              "      <td>2021-06-21</td>\n",
              "      <td>2245.317871</td>\n",
              "      <td>2259.464111</td>\n",
              "      <td>1867.185425</td>\n",
              "      <td>1888.447510</td>\n",
              "      <td>1888.447510</td>\n",
              "      <td>3.374517e+10</td>\n",
              "    </tr>\n",
              "    <tr>\n",
              "      <th>364</th>\n",
              "      <td>2021-06-22</td>\n",
              "      <td>1886.667603</td>\n",
              "      <td>1993.159790</td>\n",
              "      <td>1707.600586</td>\n",
              "      <td>1874.950073</td>\n",
              "      <td>1874.950073</td>\n",
              "      <td>3.554725e+10</td>\n",
              "    </tr>\n",
              "    <tr>\n",
              "      <th>365</th>\n",
              "      <td>2021-06-23</td>\n",
              "      <td>1872.709961</td>\n",
              "      <td>2037.858887</td>\n",
              "      <td>1827.571533</td>\n",
              "      <td>2000.787476</td>\n",
              "      <td>2000.787476</td>\n",
              "      <td>3.250619e+10</td>\n",
              "    </tr>\n",
              "  </tbody>\n",
              "</table>\n",
              "<p>366 rows × 7 columns</p>\n",
              "</div>"
            ],
            "text/plain": [
              "           Date         Open  ...    Adj Close        Volume\n",
              "0    2020-06-23   242.537018  ...   244.142151  6.624530e+09\n",
              "1    2020-06-24   244.185928  ...   235.772461  8.815030e+09\n",
              "2    2020-06-25   235.702850  ...   232.944489  7.010426e+09\n",
              "3    2020-06-26   232.877487  ...   229.668045  7.187490e+09\n",
              "4    2020-06-27   229.631485  ...   222.959793  6.918381e+09\n",
              "..          ...          ...  ...          ...           ...\n",
              "361  2021-06-19  2235.159180  ...  2178.499023  1.876585e+10\n",
              "362  2021-06-20  2171.337891  ...  2246.364502  2.253593e+10\n",
              "363  2021-06-21  2245.317871  ...  1888.447510  3.374517e+10\n",
              "364  2021-06-22  1886.667603  ...  1874.950073  3.554725e+10\n",
              "365  2021-06-23  1872.709961  ...  2000.787476  3.250619e+10\n",
              "\n",
              "[366 rows x 7 columns]"
            ]
          },
          "metadata": {
            "tags": []
          },
          "execution_count": 73
        }
      ]
    },
    {
      "cell_type": "code",
      "metadata": {
        "colab": {
          "base_uri": "https://localhost:8080/",
          "height": 297
        },
        "id": "RTG2UeNtNFQ-",
        "outputId": "82371362-205b-430a-b34d-bfce452b369f"
      },
      "source": [
        "#Statistical labeling\n",
        "df_ETH.describe()\n"
      ],
      "execution_count": 74,
      "outputs": [
        {
          "output_type": "execute_result",
          "data": {
            "text/html": [
              "<div>\n",
              "<style scoped>\n",
              "    .dataframe tbody tr th:only-of-type {\n",
              "        vertical-align: middle;\n",
              "    }\n",
              "\n",
              "    .dataframe tbody tr th {\n",
              "        vertical-align: top;\n",
              "    }\n",
              "\n",
              "    .dataframe thead th {\n",
              "        text-align: right;\n",
              "    }\n",
              "</style>\n",
              "<table border=\"1\" class=\"dataframe\">\n",
              "  <thead>\n",
              "    <tr style=\"text-align: right;\">\n",
              "      <th></th>\n",
              "      <th>Open</th>\n",
              "      <th>High</th>\n",
              "      <th>Low</th>\n",
              "      <th>Close</th>\n",
              "      <th>Adj Close</th>\n",
              "      <th>Volume</th>\n",
              "    </tr>\n",
              "  </thead>\n",
              "  <tbody>\n",
              "    <tr>\n",
              "      <th>count</th>\n",
              "      <td>363.000000</td>\n",
              "      <td>363.000000</td>\n",
              "      <td>363.000000</td>\n",
              "      <td>363.000000</td>\n",
              "      <td>363.000000</td>\n",
              "      <td>3.630000e+02</td>\n",
              "    </tr>\n",
              "    <tr>\n",
              "      <th>mean</th>\n",
              "      <td>1204.019287</td>\n",
              "      <td>1256.404665</td>\n",
              "      <td>1144.204369</td>\n",
              "      <td>1208.678389</td>\n",
              "      <td>1208.678389</td>\n",
              "      <td>2.367018e+10</td>\n",
              "    </tr>\n",
              "    <tr>\n",
              "      <th>std</th>\n",
              "      <td>970.136810</td>\n",
              "      <td>1019.286400</td>\n",
              "      <td>910.345591</td>\n",
              "      <td>969.682697</td>\n",
              "      <td>969.682697</td>\n",
              "      <td>1.419217e+10</td>\n",
              "    </tr>\n",
              "    <tr>\n",
              "      <th>min</th>\n",
              "      <td>222.914490</td>\n",
              "      <td>228.598282</td>\n",
              "      <td>219.472672</td>\n",
              "      <td>222.959793</td>\n",
              "      <td>222.959793</td>\n",
              "      <td>5.109033e+09</td>\n",
              "    </tr>\n",
              "    <tr>\n",
              "      <th>25%</th>\n",
              "      <td>386.373398</td>\n",
              "      <td>395.907883</td>\n",
              "      <td>374.979446</td>\n",
              "      <td>386.528228</td>\n",
              "      <td>386.528228</td>\n",
              "      <td>1.242225e+10</td>\n",
              "    </tr>\n",
              "    <tr>\n",
              "      <th>50%</th>\n",
              "      <td>638.315186</td>\n",
              "      <td>662.699097</td>\n",
              "      <td>628.334961</td>\n",
              "      <td>642.868958</td>\n",
              "      <td>642.868958</td>\n",
              "      <td>2.024132e+10</td>\n",
              "    </tr>\n",
              "    <tr>\n",
              "      <th>75%</th>\n",
              "      <td>1851.146485</td>\n",
              "      <td>1933.616760</td>\n",
              "      <td>1791.458191</td>\n",
              "      <td>1861.306579</td>\n",
              "      <td>1861.306579</td>\n",
              "      <td>3.193287e+10</td>\n",
              "    </tr>\n",
              "    <tr>\n",
              "      <th>max</th>\n",
              "      <td>4174.635742</td>\n",
              "      <td>4362.350586</td>\n",
              "      <td>3785.848633</td>\n",
              "      <td>4168.701172</td>\n",
              "      <td>4168.701172</td>\n",
              "      <td>8.448291e+10</td>\n",
              "    </tr>\n",
              "  </tbody>\n",
              "</table>\n",
              "</div>"
            ],
            "text/plain": [
              "              Open         High  ...    Adj Close        Volume\n",
              "count   363.000000   363.000000  ...   363.000000  3.630000e+02\n",
              "mean   1204.019287  1256.404665  ...  1208.678389  2.367018e+10\n",
              "std     970.136810  1019.286400  ...   969.682697  1.419217e+10\n",
              "min     222.914490   228.598282  ...   222.959793  5.109033e+09\n",
              "25%     386.373398   395.907883  ...   386.528228  1.242225e+10\n",
              "50%     638.315186   662.699097  ...   642.868958  2.024132e+10\n",
              "75%    1851.146485  1933.616760  ...  1861.306579  3.193287e+10\n",
              "max    4174.635742  4362.350586  ...  4168.701172  8.448291e+10\n",
              "\n",
              "[8 rows x 6 columns]"
            ]
          },
          "metadata": {
            "tags": []
          },
          "execution_count": 74
        }
      ]
    },
    {
      "cell_type": "code",
      "metadata": {
        "colab": {
          "base_uri": "https://localhost:8080/",
          "height": 419
        },
        "id": "LRpQKiQYMCAB",
        "outputId": "9cc97700-8bd2-4edb-f493-5d867a4d2deb"
      },
      "source": [
        "df_ETH.dropna(inplace=True)\n",
        "df_ETH"
      ],
      "execution_count": 87,
      "outputs": [
        {
          "output_type": "execute_result",
          "data": {
            "text/html": [
              "<div>\n",
              "<style scoped>\n",
              "    .dataframe tbody tr th:only-of-type {\n",
              "        vertical-align: middle;\n",
              "    }\n",
              "\n",
              "    .dataframe tbody tr th {\n",
              "        vertical-align: top;\n",
              "    }\n",
              "\n",
              "    .dataframe thead th {\n",
              "        text-align: right;\n",
              "    }\n",
              "</style>\n",
              "<table border=\"1\" class=\"dataframe\">\n",
              "  <thead>\n",
              "    <tr style=\"text-align: right;\">\n",
              "      <th></th>\n",
              "      <th>Date</th>\n",
              "      <th>Open</th>\n",
              "      <th>High</th>\n",
              "      <th>Low</th>\n",
              "      <th>Close</th>\n",
              "      <th>Adj Close</th>\n",
              "      <th>Volume</th>\n",
              "      <th>Prediction</th>\n",
              "    </tr>\n",
              "  </thead>\n",
              "  <tbody>\n",
              "    <tr>\n",
              "      <th>0</th>\n",
              "      <td>2020-06-23</td>\n",
              "      <td>242.537018</td>\n",
              "      <td>244.864410</td>\n",
              "      <td>239.759735</td>\n",
              "      <td>244.142151</td>\n",
              "      <td>244.142151</td>\n",
              "      <td>6.624530e+09</td>\n",
              "      <td>227.664597</td>\n",
              "    </tr>\n",
              "    <tr>\n",
              "      <th>1</th>\n",
              "      <td>2020-06-24</td>\n",
              "      <td>244.185928</td>\n",
              "      <td>248.508026</td>\n",
              "      <td>232.807739</td>\n",
              "      <td>235.772461</td>\n",
              "      <td>235.772461</td>\n",
              "      <td>8.815030e+09</td>\n",
              "      <td>241.510223</td>\n",
              "    </tr>\n",
              "    <tr>\n",
              "      <th>2</th>\n",
              "      <td>2020-06-25</td>\n",
              "      <td>235.702850</td>\n",
              "      <td>236.053406</td>\n",
              "      <td>230.296600</td>\n",
              "      <td>232.944489</td>\n",
              "      <td>232.944489</td>\n",
              "      <td>7.010426e+09</td>\n",
              "      <td>239.075531</td>\n",
              "    </tr>\n",
              "    <tr>\n",
              "      <th>3</th>\n",
              "      <td>2020-06-26</td>\n",
              "      <td>232.877487</td>\n",
              "      <td>233.901932</td>\n",
              "      <td>229.259460</td>\n",
              "      <td>229.668045</td>\n",
              "      <td>229.668045</td>\n",
              "      <td>7.187490e+09</td>\n",
              "      <td>246.670013</td>\n",
              "    </tr>\n",
              "    <tr>\n",
              "      <th>4</th>\n",
              "      <td>2020-06-27</td>\n",
              "      <td>229.631485</td>\n",
              "      <td>232.493423</td>\n",
              "      <td>220.564575</td>\n",
              "      <td>222.959793</td>\n",
              "      <td>222.959793</td>\n",
              "      <td>6.918381e+09</td>\n",
              "      <td>243.015961</td>\n",
              "    </tr>\n",
              "    <tr>\n",
              "      <th>...</th>\n",
              "      <td>...</td>\n",
              "      <td>...</td>\n",
              "      <td>...</td>\n",
              "      <td>...</td>\n",
              "      <td>...</td>\n",
              "      <td>...</td>\n",
              "      <td>...</td>\n",
              "      <td>...</td>\n",
              "    </tr>\n",
              "    <tr>\n",
              "      <th>349</th>\n",
              "      <td>2021-06-07</td>\n",
              "      <td>2713.047363</td>\n",
              "      <td>2845.185059</td>\n",
              "      <td>2583.995117</td>\n",
              "      <td>2590.263184</td>\n",
              "      <td>2590.263184</td>\n",
              "      <td>3.060011e+10</td>\n",
              "      <td>2178.499023</td>\n",
              "    </tr>\n",
              "    <tr>\n",
              "      <th>350</th>\n",
              "      <td>2021-06-08</td>\n",
              "      <td>2594.602295</td>\n",
              "      <td>2620.846191</td>\n",
              "      <td>2315.546631</td>\n",
              "      <td>2517.438721</td>\n",
              "      <td>2517.438721</td>\n",
              "      <td>4.190974e+10</td>\n",
              "      <td>2246.364502</td>\n",
              "    </tr>\n",
              "    <tr>\n",
              "      <th>351</th>\n",
              "      <td>2021-06-09</td>\n",
              "      <td>2510.199219</td>\n",
              "      <td>2625.070557</td>\n",
              "      <td>2412.197754</td>\n",
              "      <td>2608.267090</td>\n",
              "      <td>2608.267090</td>\n",
              "      <td>3.607583e+10</td>\n",
              "      <td>1888.447510</td>\n",
              "    </tr>\n",
              "    <tr>\n",
              "      <th>352</th>\n",
              "      <td>2021-06-10</td>\n",
              "      <td>2611.142578</td>\n",
              "      <td>2619.957764</td>\n",
              "      <td>2435.401611</td>\n",
              "      <td>2471.518555</td>\n",
              "      <td>2471.518555</td>\n",
              "      <td>2.875363e+10</td>\n",
              "      <td>1874.950073</td>\n",
              "    </tr>\n",
              "    <tr>\n",
              "      <th>353</th>\n",
              "      <td>2021-06-11</td>\n",
              "      <td>2472.858887</td>\n",
              "      <td>2495.414795</td>\n",
              "      <td>2326.869629</td>\n",
              "      <td>2353.768799</td>\n",
              "      <td>2353.768799</td>\n",
              "      <td>2.483256e+10</td>\n",
              "      <td>2000.787476</td>\n",
              "    </tr>\n",
              "  </tbody>\n",
              "</table>\n",
              "<p>348 rows × 8 columns</p>\n",
              "</div>"
            ],
            "text/plain": [
              "           Date         Open  ...        Volume   Prediction\n",
              "0    2020-06-23   242.537018  ...  6.624530e+09   227.664597\n",
              "1    2020-06-24   244.185928  ...  8.815030e+09   241.510223\n",
              "2    2020-06-25   235.702850  ...  7.010426e+09   239.075531\n",
              "3    2020-06-26   232.877487  ...  7.187490e+09   246.670013\n",
              "4    2020-06-27   229.631485  ...  6.918381e+09   243.015961\n",
              "..          ...          ...  ...           ...          ...\n",
              "349  2021-06-07  2713.047363  ...  3.060011e+10  2178.499023\n",
              "350  2021-06-08  2594.602295  ...  4.190974e+10  2246.364502\n",
              "351  2021-06-09  2510.199219  ...  3.607583e+10  1888.447510\n",
              "352  2021-06-10  2611.142578  ...  2.875363e+10  1874.950073\n",
              "353  2021-06-11  2472.858887  ...  2.483256e+10  2000.787476\n",
              "\n",
              "[348 rows x 8 columns]"
            ]
          },
          "metadata": {
            "tags": []
          },
          "execution_count": 87
        }
      ]
    },
    {
      "cell_type": "code",
      "metadata": {
        "colab": {
          "base_uri": "https://localhost:8080/",
          "height": 419
        },
        "id": "Eq6ob36X6KYB",
        "outputId": "b2f6ed4a-244a-4383-d8dd-9e5d3b5a97b1"
      },
      "source": [
        "#Now including the Prediction Column\n",
        "projection = 15\n",
        "\n",
        "df_ETH['Prediction'] = df_ETH[['Close']].shift(-projection)\n",
        "\n",
        "df_ETH"
      ],
      "execution_count": 96,
      "outputs": [
        {
          "output_type": "execute_result",
          "data": {
            "text/html": [
              "<div>\n",
              "<style scoped>\n",
              "    .dataframe tbody tr th:only-of-type {\n",
              "        vertical-align: middle;\n",
              "    }\n",
              "\n",
              "    .dataframe tbody tr th {\n",
              "        vertical-align: top;\n",
              "    }\n",
              "\n",
              "    .dataframe thead th {\n",
              "        text-align: right;\n",
              "    }\n",
              "</style>\n",
              "<table border=\"1\" class=\"dataframe\">\n",
              "  <thead>\n",
              "    <tr style=\"text-align: right;\">\n",
              "      <th></th>\n",
              "      <th>Date</th>\n",
              "      <th>Open</th>\n",
              "      <th>High</th>\n",
              "      <th>Low</th>\n",
              "      <th>Close</th>\n",
              "      <th>Adj Close</th>\n",
              "      <th>Volume</th>\n",
              "      <th>Prediction</th>\n",
              "    </tr>\n",
              "  </thead>\n",
              "  <tbody>\n",
              "    <tr>\n",
              "      <th>0</th>\n",
              "      <td>2020-06-23</td>\n",
              "      <td>242.537018</td>\n",
              "      <td>244.864410</td>\n",
              "      <td>239.759735</td>\n",
              "      <td>244.142151</td>\n",
              "      <td>244.142151</td>\n",
              "      <td>6.624530e+09</td>\n",
              "      <td>246.670013</td>\n",
              "    </tr>\n",
              "    <tr>\n",
              "      <th>1</th>\n",
              "      <td>2020-06-24</td>\n",
              "      <td>244.185928</td>\n",
              "      <td>248.508026</td>\n",
              "      <td>232.807739</td>\n",
              "      <td>235.772461</td>\n",
              "      <td>235.772461</td>\n",
              "      <td>8.815030e+09</td>\n",
              "      <td>243.015961</td>\n",
              "    </tr>\n",
              "    <tr>\n",
              "      <th>2</th>\n",
              "      <td>2020-06-25</td>\n",
              "      <td>235.702850</td>\n",
              "      <td>236.053406</td>\n",
              "      <td>230.296600</td>\n",
              "      <td>232.944489</td>\n",
              "      <td>232.944489</td>\n",
              "      <td>7.010426e+09</td>\n",
              "      <td>240.984985</td>\n",
              "    </tr>\n",
              "    <tr>\n",
              "      <th>3</th>\n",
              "      <td>2020-06-26</td>\n",
              "      <td>232.877487</td>\n",
              "      <td>233.901932</td>\n",
              "      <td>229.259460</td>\n",
              "      <td>229.668045</td>\n",
              "      <td>229.668045</td>\n",
              "      <td>7.187490e+09</td>\n",
              "      <td>239.458176</td>\n",
              "    </tr>\n",
              "    <tr>\n",
              "      <th>4</th>\n",
              "      <td>2020-06-27</td>\n",
              "      <td>229.631485</td>\n",
              "      <td>232.493423</td>\n",
              "      <td>220.564575</td>\n",
              "      <td>222.959793</td>\n",
              "      <td>222.959793</td>\n",
              "      <td>6.918381e+09</td>\n",
              "      <td>242.131699</td>\n",
              "    </tr>\n",
              "    <tr>\n",
              "      <th>...</th>\n",
              "      <td>...</td>\n",
              "      <td>...</td>\n",
              "      <td>...</td>\n",
              "      <td>...</td>\n",
              "      <td>...</td>\n",
              "      <td>...</td>\n",
              "      <td>...</td>\n",
              "      <td>...</td>\n",
              "    </tr>\n",
              "    <tr>\n",
              "      <th>349</th>\n",
              "      <td>2021-06-07</td>\n",
              "      <td>2713.047363</td>\n",
              "      <td>2845.185059</td>\n",
              "      <td>2583.995117</td>\n",
              "      <td>2590.263184</td>\n",
              "      <td>2590.263184</td>\n",
              "      <td>3.060011e+10</td>\n",
              "      <td>NaN</td>\n",
              "    </tr>\n",
              "    <tr>\n",
              "      <th>350</th>\n",
              "      <td>2021-06-08</td>\n",
              "      <td>2594.602295</td>\n",
              "      <td>2620.846191</td>\n",
              "      <td>2315.546631</td>\n",
              "      <td>2517.438721</td>\n",
              "      <td>2517.438721</td>\n",
              "      <td>4.190974e+10</td>\n",
              "      <td>NaN</td>\n",
              "    </tr>\n",
              "    <tr>\n",
              "      <th>351</th>\n",
              "      <td>2021-06-09</td>\n",
              "      <td>2510.199219</td>\n",
              "      <td>2625.070557</td>\n",
              "      <td>2412.197754</td>\n",
              "      <td>2608.267090</td>\n",
              "      <td>2608.267090</td>\n",
              "      <td>3.607583e+10</td>\n",
              "      <td>NaN</td>\n",
              "    </tr>\n",
              "    <tr>\n",
              "      <th>352</th>\n",
              "      <td>2021-06-10</td>\n",
              "      <td>2611.142578</td>\n",
              "      <td>2619.957764</td>\n",
              "      <td>2435.401611</td>\n",
              "      <td>2471.518555</td>\n",
              "      <td>2471.518555</td>\n",
              "      <td>2.875363e+10</td>\n",
              "      <td>NaN</td>\n",
              "    </tr>\n",
              "    <tr>\n",
              "      <th>353</th>\n",
              "      <td>2021-06-11</td>\n",
              "      <td>2472.858887</td>\n",
              "      <td>2495.414795</td>\n",
              "      <td>2326.869629</td>\n",
              "      <td>2353.768799</td>\n",
              "      <td>2353.768799</td>\n",
              "      <td>2.483256e+10</td>\n",
              "      <td>NaN</td>\n",
              "    </tr>\n",
              "  </tbody>\n",
              "</table>\n",
              "<p>348 rows × 8 columns</p>\n",
              "</div>"
            ],
            "text/plain": [
              "           Date         Open  ...        Volume  Prediction\n",
              "0    2020-06-23   242.537018  ...  6.624530e+09  246.670013\n",
              "1    2020-06-24   244.185928  ...  8.815030e+09  243.015961\n",
              "2    2020-06-25   235.702850  ...  7.010426e+09  240.984985\n",
              "3    2020-06-26   232.877487  ...  7.187490e+09  239.458176\n",
              "4    2020-06-27   229.631485  ...  6.918381e+09  242.131699\n",
              "..          ...          ...  ...           ...         ...\n",
              "349  2021-06-07  2713.047363  ...  3.060011e+10         NaN\n",
              "350  2021-06-08  2594.602295  ...  4.190974e+10         NaN\n",
              "351  2021-06-09  2510.199219  ...  3.607583e+10         NaN\n",
              "352  2021-06-10  2611.142578  ...  2.875363e+10         NaN\n",
              "353  2021-06-11  2472.858887  ...  2.483256e+10         NaN\n",
              "\n",
              "[348 rows x 8 columns]"
            ]
          },
          "metadata": {
            "tags": []
          },
          "execution_count": 96
        }
      ]
    },
    {
      "cell_type": "code",
      "metadata": {
        "id": "ytkvkqL372wW"
      },
      "source": [
        "\n",
        "X = np.array(df_ETH[['Close']])\n",
        "\n",
        "X = X[:-projection]\n",
        "print(X)"
      ],
      "execution_count": null,
      "outputs": []
    },
    {
      "cell_type": "code",
      "metadata": {
        "id": "T1n0l_Lc8LpH"
      },
      "source": [
        "\n",
        "y = df_ETH['Prediction'].values\n",
        "y = y[:-projection]\n",
        "      \n",
        "print(y)"
      ],
      "execution_count": null,
      "outputs": []
    },
    {
      "cell_type": "code",
      "metadata": {
        "id": "RT3TF6N_9rzE"
      },
      "source": [
        "x_train, x_test, y_train, y_test = train_test_split(X, y, test_size = .15)"
      ],
      "execution_count": 99,
      "outputs": []
    },
    {
      "cell_type": "code",
      "metadata": {
        "colab": {
          "base_uri": "https://localhost:8080/"
        },
        "id": "QnnhNH8b8kiG",
        "outputId": "f9b2bec4-cd99-4f79-cce2-2f7569bd3951"
      },
      "source": [
        "\n",
        "linReg = LinearRegression()\n",
        "linReg.fit(x_train, y_train)\n"
      ],
      "execution_count": 101,
      "outputs": [
        {
          "output_type": "execute_result",
          "data": {
            "text/plain": [
              "LinearRegression(copy_X=True, fit_intercept=True, n_jobs=None, normalize=False)"
            ]
          },
          "metadata": {
            "tags": []
          },
          "execution_count": 101
        }
      ]
    },
    {
      "cell_type": "code",
      "metadata": {
        "colab": {
          "base_uri": "https://localhost:8080/"
        },
        "id": "50UkQbVc-AD9",
        "outputId": "c1f7a35b-718d-46ae-910b-7198befbb707"
      },
      "source": [
        "\n",
        "linReg_confidence = linReg.score(x_test, y_test)\n",
        "print('Liner Regression Confidence: ', linReg_confidence)\n"
      ],
      "execution_count": 102,
      "outputs": [
        {
          "output_type": "stream",
          "text": [
            "Liner Regression Confidence:  0.8527813111654802\n"
          ],
          "name": "stdout"
        }
      ]
    },
    {
      "cell_type": "code",
      "metadata": {
        "id": "rCTiLVni-TqI"
      },
      "source": [
        "x_projection = np.array(df_ETH[['Close']])[-projection:]\n",
        "print(x_projection)"
      ],
      "execution_count": null,
      "outputs": []
    },
    {
      "cell_type": "code",
      "metadata": {
        "colab": {
          "base_uri": "https://localhost:8080/"
        },
        "id": "ZNvj35QE-7Cf",
        "outputId": "00488174-3b09-44f0-d6b5-0ec7cfa89938"
      },
      "source": [
        "\n",
        "linReg_prediction = linReg.predict(x_projection)\n",
        "print(linReg_prediction)"
      ],
      "execution_count": 104,
      "outputs": [
        {
          "output_type": "stream",
          "text": [
            "[2414.94352401 2286.41913904 2387.84492842 2685.04217498 2610.49840722\n",
            " 2676.96746576 2813.37345309 2660.5531971  2607.80564493 2685.17716981\n",
            " 2570.89974753 2504.23132399 2587.38173698 2462.19290791 2354.39684212]\n"
          ],
          "name": "stdout"
        }
      ]
    },
    {
      "cell_type": "code",
      "metadata": {
        "id": "PPi5dHQy_MNc"
      },
      "source": [
        ""
      ],
      "execution_count": null,
      "outputs": []
    }
  ]
}