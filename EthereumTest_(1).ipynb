{
  "nbformat": 4,
  "nbformat_minor": 5,
  "metadata": {
    "kernelspec": {
      "display_name": "Python 3",
      "language": "python",
      "name": "python3"
    },
    "language_info": {
      "codemirror_mode": {
        "name": "ipython",
        "version": 3
      },
      "file_extension": ".py",
      "mimetype": "text/x-python",
      "name": "python",
      "nbconvert_exporter": "python",
      "pygments_lexer": "ipython3",
      "version": "3.9.6"
    },
    "colab": {
      "name": "EthereumTest (1).ipynb",
      "provenance": [],
      "collapsed_sections": [],
      "include_colab_link": true
    }
  },
  "cells": [
    {
      "cell_type": "markdown",
      "metadata": {
        "id": "view-in-github",
        "colab_type": "text"
      },
      "source": [
        "<a href=\"https://colab.research.google.com/github/Skurmes/Data-Science-Project/blob/Testing/EthereumTest_(1).ipynb\" target=\"_parent\"><img src=\"https://colab.research.google.com/assets/colab-badge.svg\" alt=\"Open In Colab\"/></a>"
      ]
    },
    {
      "cell_type": "code",
      "metadata": {
        "id": "b3fc3adb-9d41-4151-a7fb-8442fec222ae"
      },
      "source": [
        "import numpy as np\n",
        "import matplotlib.pyplot as plt\n",
        "import pandas as pd\n",
        "import pandas_datareader as web\n",
        "import datetime as dt"
      ],
      "id": "b3fc3adb-9d41-4151-a7fb-8442fec222ae",
      "execution_count": 1,
      "outputs": []
    },
    {
      "cell_type": "code",
      "metadata": {
        "id": "f8ab64bc-3bd1-4040-bd1a-8f880082a581"
      },
      "source": [
        "from sklearn.preprocessing import MinMaxScaler\n",
        "from tensorflow.keras.layers import Dense, Dropout, LSTM\n",
        "from tensorflow.keras.models import Sequential"
      ],
      "id": "f8ab64bc-3bd1-4040-bd1a-8f880082a581",
      "execution_count": 3,
      "outputs": []
    },
    {
      "cell_type": "code",
      "metadata": {
        "colab": {
          "resources": {
            "http://localhost:8080/nbextensions/google.colab/files.js": {
              "data": "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",
              "ok": true,
              "headers": [
                [
                  "content-type",
                  "application/javascript"
                ]
              ],
              "status": 200,
              "status_text": ""
            }
          },
          "base_uri": "https://localhost:8080/",
          "height": 72
        },
        "id": "w5OFD3o_q12Y",
        "outputId": "8447bfcd-b45d-47ca-93c0-2f525f82cc00"
      },
      "source": [
        "#Loading the data\n",
        "\n",
        "from google.colab import files\n",
        "upload = files.upload()"
      ],
      "id": "w5OFD3o_q12Y",
      "execution_count": 40,
      "outputs": [
        {
          "output_type": "display_data",
          "data": {
            "text/html": [
              "\n",
              "     <input type=\"file\" id=\"files-1e5472bb-3281-4fc0-9ef7-85dbc0078cd8\" name=\"files[]\" multiple disabled\n",
              "        style=\"border:none\" />\n",
              "     <output id=\"result-1e5472bb-3281-4fc0-9ef7-85dbc0078cd8\">\n",
              "      Upload widget is only available when the cell has been executed in the\n",
              "      current browser session. Please rerun this cell to enable.\n",
              "      </output>\n",
              "      <script src=\"/nbextensions/google.colab/files.js\"></script> "
            ],
            "text/plain": [
              "<IPython.core.display.HTML object>"
            ]
          },
          "metadata": {
            "tags": []
          }
        },
        {
          "output_type": "stream",
          "text": [
            "Saving BTC-USD.csv to BTC-USD.csv\n"
          ],
          "name": "stdout"
        }
      ]
    },
    {
      "cell_type": "code",
      "metadata": {
        "id": "GxG-44bxrDeu"
      },
      "source": [
        "#Storing the data into Dataframes\n",
        "df_ETH = pd.read_csv('ETH-USD (1).csv')\n",
        "df_DOGE = pd.read_csv('DOGE-USD.csv')\n",
        "df_BTC = pd.read_csv('BTC-USD.csv')"
      ],
      "id": "GxG-44bxrDeu",
      "execution_count": 41,
      "outputs": []
    },
    {
      "cell_type": "code",
      "metadata": {
        "id": "f7c775e4-5130-45cf-9ff6-b25c1615a867"
      },
      "source": [
        "crypto = 'ETH'\n",
        "currency = 'USD'\n",
        "\n",
        "start = dt.datetime(2020,5,29)\n",
        "end = dt.datetime.now()\n",
        "\n",
        "data = web.DataReader(f\"{crypto}-{currency}\", \"yahoo\", start, end)"
      ],
      "id": "f7c775e4-5130-45cf-9ff6-b25c1615a867",
      "execution_count": 5,
      "outputs": []
    },
    {
      "cell_type": "code",
      "metadata": {
        "id": "7a6854f8-7060-4d58-9108-442be0f75c52"
      },
      "source": [
        "data.index = pd.to_datetime(data.index)"
      ],
      "id": "7a6854f8-7060-4d58-9108-442be0f75c52",
      "execution_count": 6,
      "outputs": []
    },
    {
      "cell_type": "code",
      "metadata": {
        "colab": {
          "base_uri": "https://localhost:8080/",
          "height": 450
        },
        "id": "e9554f82-e828-40fd-ae4d-9f1e0b7e6699",
        "outputId": "b1bc4fce-41fb-419d-89b1-a97ee1fe19e8"
      },
      "source": [
        "data"
      ],
      "id": "e9554f82-e828-40fd-ae4d-9f1e0b7e6699",
      "execution_count": 7,
      "outputs": [
        {
          "output_type": "execute_result",
          "data": {
            "text/html": [
              "<div>\n",
              "<style scoped>\n",
              "    .dataframe tbody tr th:only-of-type {\n",
              "        vertical-align: middle;\n",
              "    }\n",
              "\n",
              "    .dataframe tbody tr th {\n",
              "        vertical-align: top;\n",
              "    }\n",
              "\n",
              "    .dataframe thead th {\n",
              "        text-align: right;\n",
              "    }\n",
              "</style>\n",
              "<table border=\"1\" class=\"dataframe\">\n",
              "  <thead>\n",
              "    <tr style=\"text-align: right;\">\n",
              "      <th></th>\n",
              "      <th>High</th>\n",
              "      <th>Low</th>\n",
              "      <th>Open</th>\n",
              "      <th>Close</th>\n",
              "      <th>Volume</th>\n",
              "      <th>Adj Close</th>\n",
              "    </tr>\n",
              "    <tr>\n",
              "      <th>Date</th>\n",
              "      <th></th>\n",
              "      <th></th>\n",
              "      <th></th>\n",
              "      <th></th>\n",
              "      <th></th>\n",
              "      <th></th>\n",
              "    </tr>\n",
              "  </thead>\n",
              "  <tbody>\n",
              "    <tr>\n",
              "      <th>2020-05-28</th>\n",
              "      <td>224.216873</td>\n",
              "      <td>218.238052</td>\n",
              "      <td>219.925049</td>\n",
              "      <td>220.675125</td>\n",
              "      <td>1.226582e+10</td>\n",
              "      <td>220.675125</td>\n",
              "    </tr>\n",
              "    <tr>\n",
              "      <th>2020-05-29</th>\n",
              "      <td>243.943146</td>\n",
              "      <td>218.744461</td>\n",
              "      <td>220.717209</td>\n",
              "      <td>242.345596</td>\n",
              "      <td>1.502740e+10</td>\n",
              "      <td>242.345596</td>\n",
              "    </tr>\n",
              "    <tr>\n",
              "      <th>2020-05-30</th>\n",
              "      <td>244.045258</td>\n",
              "      <td>230.052826</td>\n",
              "      <td>242.351379</td>\n",
              "      <td>230.975708</td>\n",
              "      <td>1.223490e+10</td>\n",
              "      <td>230.975708</td>\n",
              "    </tr>\n",
              "    <tr>\n",
              "      <th>2020-05-31</th>\n",
              "      <td>248.236282</td>\n",
              "      <td>230.488052</td>\n",
              "      <td>230.860260</td>\n",
              "      <td>246.991760</td>\n",
              "      <td>1.395173e+10</td>\n",
              "      <td>246.991760</td>\n",
              "    </tr>\n",
              "    <tr>\n",
              "      <th>2020-06-01</th>\n",
              "      <td>252.222000</td>\n",
              "      <td>233.225296</td>\n",
              "      <td>246.828186</td>\n",
              "      <td>237.219055</td>\n",
              "      <td>1.378211e+10</td>\n",
              "      <td>237.219055</td>\n",
              "    </tr>\n",
              "    <tr>\n",
              "      <th>...</th>\n",
              "      <td>...</td>\n",
              "      <td>...</td>\n",
              "      <td>...</td>\n",
              "      <td>...</td>\n",
              "      <td>...</td>\n",
              "      <td>...</td>\n",
              "    </tr>\n",
              "    <tr>\n",
              "      <th>2021-06-24</th>\n",
              "      <td>2017.759521</td>\n",
              "      <td>1794.400391</td>\n",
              "      <td>1989.215820</td>\n",
              "      <td>1813.217285</td>\n",
              "      <td>2.277433e+10</td>\n",
              "      <td>1813.217285</td>\n",
              "    </tr>\n",
              "    <tr>\n",
              "      <th>2021-06-25</th>\n",
              "      <td>1850.179810</td>\n",
              "      <td>1719.559448</td>\n",
              "      <td>1810.884277</td>\n",
              "      <td>1829.239258</td>\n",
              "      <td>2.063754e+10</td>\n",
              "      <td>1829.239258</td>\n",
              "    </tr>\n",
              "    <tr>\n",
              "      <th>2021-06-26</th>\n",
              "      <td>1979.958130</td>\n",
              "      <td>1811.245850</td>\n",
              "      <td>1830.996948</td>\n",
              "      <td>1978.894653</td>\n",
              "      <td>1.988547e+10</td>\n",
              "      <td>1978.894653</td>\n",
              "    </tr>\n",
              "    <tr>\n",
              "      <th>2021-06-27</th>\n",
              "      <td>2139.805420</td>\n",
              "      <td>1963.615479</td>\n",
              "      <td>1981.386475</td>\n",
              "      <td>2079.657471</td>\n",
              "      <td>2.551460e+10</td>\n",
              "      <td>2079.657471</td>\n",
              "    </tr>\n",
              "    <tr>\n",
              "      <th>2021-06-29</th>\n",
              "      <td>2242.238770</td>\n",
              "      <td>2082.025879</td>\n",
              "      <td>2082.025879</td>\n",
              "      <td>2193.981689</td>\n",
              "      <td>2.528049e+10</td>\n",
              "      <td>2193.981689</td>\n",
              "    </tr>\n",
              "  </tbody>\n",
              "</table>\n",
              "<p>394 rows × 6 columns</p>\n",
              "</div>"
            ],
            "text/plain": [
              "                   High          Low  ...        Volume    Adj Close\n",
              "Date                                  ...                           \n",
              "2020-05-28   224.216873   218.238052  ...  1.226582e+10   220.675125\n",
              "2020-05-29   243.943146   218.744461  ...  1.502740e+10   242.345596\n",
              "2020-05-30   244.045258   230.052826  ...  1.223490e+10   230.975708\n",
              "2020-05-31   248.236282   230.488052  ...  1.395173e+10   246.991760\n",
              "2020-06-01   252.222000   233.225296  ...  1.378211e+10   237.219055\n",
              "...                 ...          ...  ...           ...          ...\n",
              "2021-06-24  2017.759521  1794.400391  ...  2.277433e+10  1813.217285\n",
              "2021-06-25  1850.179810  1719.559448  ...  2.063754e+10  1829.239258\n",
              "2021-06-26  1979.958130  1811.245850  ...  1.988547e+10  1978.894653\n",
              "2021-06-27  2139.805420  1963.615479  ...  2.551460e+10  2079.657471\n",
              "2021-06-29  2242.238770  2082.025879  ...  2.528049e+10  2193.981689\n",
              "\n",
              "[394 rows x 6 columns]"
            ]
          },
          "metadata": {
            "tags": []
          },
          "execution_count": 7
        }
      ]
    },
    {
      "cell_type": "code",
      "metadata": {
        "colab": {
          "base_uri": "https://localhost:8080/",
          "height": 297
        },
        "id": "AkbqIhf-n7GL",
        "outputId": "0b467639-6acb-4a04-e001-ce572646c4d9"
      },
      "source": [
        "#Statistical labeling Ethereum\n",
        "df_ETH.describe()"
      ],
      "id": "AkbqIhf-n7GL",
      "execution_count": 29,
      "outputs": [
        {
          "output_type": "execute_result",
          "data": {
            "text/html": [
              "<div>\n",
              "<style scoped>\n",
              "    .dataframe tbody tr th:only-of-type {\n",
              "        vertical-align: middle;\n",
              "    }\n",
              "\n",
              "    .dataframe tbody tr th {\n",
              "        vertical-align: top;\n",
              "    }\n",
              "\n",
              "    .dataframe thead th {\n",
              "        text-align: right;\n",
              "    }\n",
              "</style>\n",
              "<table border=\"1\" class=\"dataframe\">\n",
              "  <thead>\n",
              "    <tr style=\"text-align: right;\">\n",
              "      <th></th>\n",
              "      <th>Open</th>\n",
              "      <th>High</th>\n",
              "      <th>Low</th>\n",
              "      <th>Close</th>\n",
              "      <th>Adj Close</th>\n",
              "      <th>Volume</th>\n",
              "    </tr>\n",
              "  </thead>\n",
              "  <tbody>\n",
              "    <tr>\n",
              "      <th>count</th>\n",
              "      <td>363.000000</td>\n",
              "      <td>363.000000</td>\n",
              "      <td>363.000000</td>\n",
              "      <td>363.000000</td>\n",
              "      <td>363.000000</td>\n",
              "      <td>3.630000e+02</td>\n",
              "    </tr>\n",
              "    <tr>\n",
              "      <th>mean</th>\n",
              "      <td>1204.019287</td>\n",
              "      <td>1256.404665</td>\n",
              "      <td>1144.204369</td>\n",
              "      <td>1208.678389</td>\n",
              "      <td>1208.678389</td>\n",
              "      <td>2.367018e+10</td>\n",
              "    </tr>\n",
              "    <tr>\n",
              "      <th>std</th>\n",
              "      <td>970.136810</td>\n",
              "      <td>1019.286400</td>\n",
              "      <td>910.345591</td>\n",
              "      <td>969.682697</td>\n",
              "      <td>969.682697</td>\n",
              "      <td>1.419217e+10</td>\n",
              "    </tr>\n",
              "    <tr>\n",
              "      <th>min</th>\n",
              "      <td>222.914490</td>\n",
              "      <td>228.598282</td>\n",
              "      <td>219.472672</td>\n",
              "      <td>222.959793</td>\n",
              "      <td>222.959793</td>\n",
              "      <td>5.109033e+09</td>\n",
              "    </tr>\n",
              "    <tr>\n",
              "      <th>25%</th>\n",
              "      <td>386.373398</td>\n",
              "      <td>395.907883</td>\n",
              "      <td>374.979446</td>\n",
              "      <td>386.528228</td>\n",
              "      <td>386.528228</td>\n",
              "      <td>1.242225e+10</td>\n",
              "    </tr>\n",
              "    <tr>\n",
              "      <th>50%</th>\n",
              "      <td>638.315186</td>\n",
              "      <td>662.699097</td>\n",
              "      <td>628.334961</td>\n",
              "      <td>642.868958</td>\n",
              "      <td>642.868958</td>\n",
              "      <td>2.024132e+10</td>\n",
              "    </tr>\n",
              "    <tr>\n",
              "      <th>75%</th>\n",
              "      <td>1851.146485</td>\n",
              "      <td>1933.616760</td>\n",
              "      <td>1791.458191</td>\n",
              "      <td>1861.306579</td>\n",
              "      <td>1861.306579</td>\n",
              "      <td>3.193287e+10</td>\n",
              "    </tr>\n",
              "    <tr>\n",
              "      <th>max</th>\n",
              "      <td>4174.635742</td>\n",
              "      <td>4362.350586</td>\n",
              "      <td>3785.848633</td>\n",
              "      <td>4168.701172</td>\n",
              "      <td>4168.701172</td>\n",
              "      <td>8.448291e+10</td>\n",
              "    </tr>\n",
              "  </tbody>\n",
              "</table>\n",
              "</div>"
            ],
            "text/plain": [
              "              Open         High  ...    Adj Close        Volume\n",
              "count   363.000000   363.000000  ...   363.000000  3.630000e+02\n",
              "mean   1204.019287  1256.404665  ...  1208.678389  2.367018e+10\n",
              "std     970.136810  1019.286400  ...   969.682697  1.419217e+10\n",
              "min     222.914490   228.598282  ...   222.959793  5.109033e+09\n",
              "25%     386.373398   395.907883  ...   386.528228  1.242225e+10\n",
              "50%     638.315186   662.699097  ...   642.868958  2.024132e+10\n",
              "75%    1851.146485  1933.616760  ...  1861.306579  3.193287e+10\n",
              "max    4174.635742  4362.350586  ...  4168.701172  8.448291e+10\n",
              "\n",
              "[8 rows x 6 columns]"
            ]
          },
          "metadata": {
            "tags": []
          },
          "execution_count": 29
        }
      ]
    },
    {
      "cell_type": "code",
      "metadata": {
        "colab": {
          "base_uri": "https://localhost:8080/",
          "height": 297
        },
        "id": "Epju5ld-sCwR",
        "outputId": "ee6cfb84-46b7-4439-97da-492c12560eb0"
      },
      "source": [
        "#Statistical labeling DOGE\n",
        "df_DOGE.describe()"
      ],
      "id": "Epju5ld-sCwR",
      "execution_count": 32,
      "outputs": [
        {
          "output_type": "execute_result",
          "data": {
            "text/html": [
              "<div>\n",
              "<style scoped>\n",
              "    .dataframe tbody tr th:only-of-type {\n",
              "        vertical-align: middle;\n",
              "    }\n",
              "\n",
              "    .dataframe tbody tr th {\n",
              "        vertical-align: top;\n",
              "    }\n",
              "\n",
              "    .dataframe thead th {\n",
              "        text-align: right;\n",
              "    }\n",
              "</style>\n",
              "<table border=\"1\" class=\"dataframe\">\n",
              "  <thead>\n",
              "    <tr style=\"text-align: right;\">\n",
              "      <th></th>\n",
              "      <th>Open</th>\n",
              "      <th>High</th>\n",
              "      <th>Low</th>\n",
              "      <th>Close</th>\n",
              "      <th>Adj Close</th>\n",
              "      <th>Volume</th>\n",
              "    </tr>\n",
              "  </thead>\n",
              "  <tbody>\n",
              "    <tr>\n",
              "      <th>count</th>\n",
              "      <td>363.000000</td>\n",
              "      <td>363.000000</td>\n",
              "      <td>363.000000</td>\n",
              "      <td>363.000000</td>\n",
              "      <td>363.000000</td>\n",
              "      <td>3.630000e+02</td>\n",
              "    </tr>\n",
              "    <tr>\n",
              "      <th>mean</th>\n",
              "      <td>0.083927</td>\n",
              "      <td>0.092667</td>\n",
              "      <td>0.075237</td>\n",
              "      <td>0.084410</td>\n",
              "      <td>0.084410</td>\n",
              "      <td>3.012473e+09</td>\n",
              "    </tr>\n",
              "    <tr>\n",
              "      <th>std</th>\n",
              "      <td>0.147021</td>\n",
              "      <td>0.163813</td>\n",
              "      <td>0.129815</td>\n",
              "      <td>0.147267</td>\n",
              "      <td>0.147267</td>\n",
              "      <td>7.195805e+09</td>\n",
              "    </tr>\n",
              "    <tr>\n",
              "      <th>min</th>\n",
              "      <td>0.002307</td>\n",
              "      <td>0.002327</td>\n",
              "      <td>0.002277</td>\n",
              "      <td>0.002309</td>\n",
              "      <td>0.002309</td>\n",
              "      <td>2.275453e+07</td>\n",
              "    </tr>\n",
              "    <tr>\n",
              "      <th>25%</th>\n",
              "      <td>0.002960</td>\n",
              "      <td>0.003091</td>\n",
              "      <td>0.002890</td>\n",
              "      <td>0.002989</td>\n",
              "      <td>0.002989</td>\n",
              "      <td>6.602140e+07</td>\n",
              "    </tr>\n",
              "    <tr>\n",
              "      <th>50%</th>\n",
              "      <td>0.004508</td>\n",
              "      <td>0.004703</td>\n",
              "      <td>0.004278</td>\n",
              "      <td>0.004548</td>\n",
              "      <td>0.004548</td>\n",
              "      <td>1.755203e+08</td>\n",
              "    </tr>\n",
              "    <tr>\n",
              "      <th>75%</th>\n",
              "      <td>0.058790</td>\n",
              "      <td>0.062258</td>\n",
              "      <td>0.056453</td>\n",
              "      <td>0.058994</td>\n",
              "      <td>0.058994</td>\n",
              "      <td>2.468435e+09</td>\n",
              "    </tr>\n",
              "    <tr>\n",
              "      <th>max</th>\n",
              "      <td>0.687801</td>\n",
              "      <td>0.737567</td>\n",
              "      <td>0.608168</td>\n",
              "      <td>0.684777</td>\n",
              "      <td>0.684777</td>\n",
              "      <td>6.941068e+10</td>\n",
              "    </tr>\n",
              "  </tbody>\n",
              "</table>\n",
              "</div>"
            ],
            "text/plain": [
              "             Open        High         Low       Close   Adj Close        Volume\n",
              "count  363.000000  363.000000  363.000000  363.000000  363.000000  3.630000e+02\n",
              "mean     0.083927    0.092667    0.075237    0.084410    0.084410  3.012473e+09\n",
              "std      0.147021    0.163813    0.129815    0.147267    0.147267  7.195805e+09\n",
              "min      0.002307    0.002327    0.002277    0.002309    0.002309  2.275453e+07\n",
              "25%      0.002960    0.003091    0.002890    0.002989    0.002989  6.602140e+07\n",
              "50%      0.004508    0.004703    0.004278    0.004548    0.004548  1.755203e+08\n",
              "75%      0.058790    0.062258    0.056453    0.058994    0.058994  2.468435e+09\n",
              "max      0.687801    0.737567    0.608168    0.684777    0.684777  6.941068e+10"
            ]
          },
          "metadata": {
            "tags": []
          },
          "execution_count": 32
        }
      ]
    },
    {
      "cell_type": "code",
      "metadata": {
        "colab": {
          "base_uri": "https://localhost:8080/",
          "height": 297
        },
        "id": "HFl3irVQsd5b",
        "outputId": "dd5eb29b-95d4-4413-ec5e-a08f0489ad84"
      },
      "source": [
        "#Statistical labeling BitCoin\n",
        "df_BTC.describe()"
      ],
      "id": "HFl3irVQsd5b",
      "execution_count": 42,
      "outputs": [
        {
          "output_type": "execute_result",
          "data": {
            "text/html": [
              "<div>\n",
              "<style scoped>\n",
              "    .dataframe tbody tr th:only-of-type {\n",
              "        vertical-align: middle;\n",
              "    }\n",
              "\n",
              "    .dataframe tbody tr th {\n",
              "        vertical-align: top;\n",
              "    }\n",
              "\n",
              "    .dataframe thead th {\n",
              "        text-align: right;\n",
              "    }\n",
              "</style>\n",
              "<table border=\"1\" class=\"dataframe\">\n",
              "  <thead>\n",
              "    <tr style=\"text-align: right;\">\n",
              "      <th></th>\n",
              "      <th>Open</th>\n",
              "      <th>High</th>\n",
              "      <th>Low</th>\n",
              "      <th>Close</th>\n",
              "      <th>Adj Close</th>\n",
              "      <th>Volume</th>\n",
              "    </tr>\n",
              "  </thead>\n",
              "  <tbody>\n",
              "    <tr>\n",
              "      <th>count</th>\n",
              "      <td>363.000000</td>\n",
              "      <td>363.000000</td>\n",
              "      <td>363.000000</td>\n",
              "      <td>363.000000</td>\n",
              "      <td>363.000000</td>\n",
              "      <td>3.630000e+02</td>\n",
              "    </tr>\n",
              "    <tr>\n",
              "      <th>mean</th>\n",
              "      <td>29645.615331</td>\n",
              "      <td>30566.603855</td>\n",
              "      <td>28605.376103</td>\n",
              "      <td>29713.272792</td>\n",
              "      <td>29713.272792</td>\n",
              "      <td>4.494340e+10</td>\n",
              "    </tr>\n",
              "    <tr>\n",
              "      <th>std</th>\n",
              "      <td>17948.303476</td>\n",
              "      <td>18519.871336</td>\n",
              "      <td>17223.446524</td>\n",
              "      <td>17917.718365</td>\n",
              "      <td>17917.718365</td>\n",
              "      <td>2.676900e+10</td>\n",
              "    </tr>\n",
              "    <tr>\n",
              "      <th>min</th>\n",
              "      <td>9072.849609</td>\n",
              "      <td>9162.183594</td>\n",
              "      <td>8977.015625</td>\n",
              "      <td>9073.942383</td>\n",
              "      <td>9073.942383</td>\n",
              "      <td>1.225260e+10</td>\n",
              "    </tr>\n",
              "    <tr>\n",
              "      <th>25%</th>\n",
              "      <td>11662.973144</td>\n",
              "      <td>11797.744629</td>\n",
              "      <td>11428.699707</td>\n",
              "      <td>11678.279785</td>\n",
              "      <td>11678.279785</td>\n",
              "      <td>2.583935e+10</td>\n",
              "    </tr>\n",
              "    <tr>\n",
              "      <th>50%</th>\n",
              "      <td>27360.089844</td>\n",
              "      <td>28937.740234</td>\n",
              "      <td>27360.089844</td>\n",
              "      <td>28840.953125</td>\n",
              "      <td>28840.953125</td>\n",
              "      <td>4.085632e+10</td>\n",
              "    </tr>\n",
              "    <tr>\n",
              "      <th>75%</th>\n",
              "      <td>46593.199219</td>\n",
              "      <td>48417.126953</td>\n",
              "      <td>45141.027344</td>\n",
              "      <td>46620.646485</td>\n",
              "      <td>46620.646485</td>\n",
              "      <td>5.844105e+10</td>\n",
              "    </tr>\n",
              "    <tr>\n",
              "      <th>max</th>\n",
              "      <td>63523.753906</td>\n",
              "      <td>64863.097656</td>\n",
              "      <td>62208.964844</td>\n",
              "      <td>63503.457031</td>\n",
              "      <td>63503.457031</td>\n",
              "      <td>3.509679e+11</td>\n",
              "    </tr>\n",
              "  </tbody>\n",
              "</table>\n",
              "</div>"
            ],
            "text/plain": [
              "               Open          High  ...     Adj Close        Volume\n",
              "count    363.000000    363.000000  ...    363.000000  3.630000e+02\n",
              "mean   29645.615331  30566.603855  ...  29713.272792  4.494340e+10\n",
              "std    17948.303476  18519.871336  ...  17917.718365  2.676900e+10\n",
              "min     9072.849609   9162.183594  ...   9073.942383  1.225260e+10\n",
              "25%    11662.973144  11797.744629  ...  11678.279785  2.583935e+10\n",
              "50%    27360.089844  28937.740234  ...  28840.953125  4.085632e+10\n",
              "75%    46593.199219  48417.126953  ...  46620.646485  5.844105e+10\n",
              "max    63523.753906  64863.097656  ...  63503.457031  3.509679e+11\n",
              "\n",
              "[8 rows x 6 columns]"
            ]
          },
          "metadata": {
            "tags": []
          },
          "execution_count": 42
        }
      ]
    },
    {
      "cell_type": "code",
      "metadata": {
        "id": "9d21031b-d8d2-4f33-8032-04369566d483"
      },
      "source": [
        "scaler = MinMaxScaler(feature_range=(0,1))\n",
        "scaled_data = scaler.fit_transform(data['Close'].values.reshape(-1,1))"
      ],
      "id": "9d21031b-d8d2-4f33-8032-04369566d483",
      "execution_count": 8,
      "outputs": []
    },
    {
      "cell_type": "code",
      "metadata": {
        "id": "a6deddef-0806-4236-b7b8-1c2f06535a81"
      },
      "source": [
        "pred_days = 30 # no. of days you're considering for the prediction"
      ],
      "id": "a6deddef-0806-4236-b7b8-1c2f06535a81",
      "execution_count": 9,
      "outputs": []
    },
    {
      "cell_type": "code",
      "metadata": {
        "id": "aefe89cd-1e8e-4959-aaa8-b9c67917e78c"
      },
      "source": [
        "x_train, y_train = [], []\n",
        "\n",
        "for x in range(pred_days, len(scaled_data)):\n",
        "  x_train.append(scaled_data[x-pred_days:x, 0])\n",
        "  y_train.append(scaled_data[x, 0])"
      ],
      "id": "aefe89cd-1e8e-4959-aaa8-b9c67917e78c",
      "execution_count": 10,
      "outputs": []
    },
    {
      "cell_type": "code",
      "metadata": {
        "id": "ae722d6c-a2c9-4844-aacc-4eaf89a49df3"
      },
      "source": [
        "x_train, y_train = np.array(x_train), np.array(y_train)\n",
        "x_train = np.reshape(x_train, (x_train.shape[0], x_train.shape[1], 1))"
      ],
      "id": "ae722d6c-a2c9-4844-aacc-4eaf89a49df3",
      "execution_count": 11,
      "outputs": []
    },
    {
      "cell_type": "code",
      "metadata": {
        "tags": [],
        "colab": {
          "base_uri": "https://localhost:8080/"
        },
        "id": "ee3ee153-07ed-4119-bcde-a2c509b954e2",
        "outputId": "9062f6eb-ecb8-4b11-ee18-915e02483af5"
      },
      "source": [
        "model = Sequential()\n",
        "\n",
        "model.add(LSTM(units=50, return_sequences=True, input_shape=(x_train.shape[1], 1)))\n",
        "model.add(Dropout(0.2))\n",
        "model.add(LSTM(units=50, return_sequences=True))\n",
        "model.add(Dropout(0.2))\n",
        "model.add(LSTM(units=50))\n",
        "model.add(Dropout(0.2))\n",
        "model.add(Dense(1))\n",
        "\n",
        "model.compile(optimizer='adam', loss='mean_squared_error')\n",
        "model.fit(x_train, y_train, epochs=30, batch_size=32)"
      ],
      "id": "ee3ee153-07ed-4119-bcde-a2c509b954e2",
      "execution_count": 12,
      "outputs": [
        {
          "output_type": "stream",
          "text": [
            "Epoch 1/30\n",
            "12/12 [==============================] - 5s 42ms/step - loss: 0.0408\n",
            "Epoch 2/30\n",
            "12/12 [==============================] - 1s 43ms/step - loss: 0.0117\n",
            "Epoch 3/30\n",
            "12/12 [==============================] - 1s 44ms/step - loss: 0.0081\n",
            "Epoch 4/30\n",
            "12/12 [==============================] - 1s 44ms/step - loss: 0.0073\n",
            "Epoch 5/30\n",
            "12/12 [==============================] - 1s 42ms/step - loss: 0.0078\n",
            "Epoch 6/30\n",
            "12/12 [==============================] - 1s 43ms/step - loss: 0.0063\n",
            "Epoch 7/30\n",
            "12/12 [==============================] - 0s 41ms/step - loss: 0.0059\n",
            "Epoch 8/30\n",
            "12/12 [==============================] - 1s 43ms/step - loss: 0.0065\n",
            "Epoch 9/30\n",
            "12/12 [==============================] - 1s 44ms/step - loss: 0.0056\n",
            "Epoch 10/30\n",
            "12/12 [==============================] - 1s 42ms/step - loss: 0.0051\n",
            "Epoch 11/30\n",
            "12/12 [==============================] - 1s 42ms/step - loss: 0.0057\n",
            "Epoch 12/30\n",
            "12/12 [==============================] - 1s 42ms/step - loss: 0.0047\n",
            "Epoch 13/30\n",
            "12/12 [==============================] - 1s 42ms/step - loss: 0.0064\n",
            "Epoch 14/30\n",
            "12/12 [==============================] - 1s 42ms/step - loss: 0.0063\n",
            "Epoch 15/30\n",
            "12/12 [==============================] - 1s 42ms/step - loss: 0.0066\n",
            "Epoch 16/30\n",
            "12/12 [==============================] - 1s 43ms/step - loss: 0.0050\n",
            "Epoch 17/30\n",
            "12/12 [==============================] - 1s 43ms/step - loss: 0.0045\n",
            "Epoch 18/30\n",
            "12/12 [==============================] - 1s 43ms/step - loss: 0.0043\n",
            "Epoch 19/30\n",
            "12/12 [==============================] - 1s 43ms/step - loss: 0.0040\n",
            "Epoch 20/30\n",
            "12/12 [==============================] - 1s 43ms/step - loss: 0.0035\n",
            "Epoch 21/30\n",
            "12/12 [==============================] - 1s 43ms/step - loss: 0.0041\n",
            "Epoch 22/30\n",
            "12/12 [==============================] - 1s 42ms/step - loss: 0.0039\n",
            "Epoch 23/30\n",
            "12/12 [==============================] - 1s 44ms/step - loss: 0.0039\n",
            "Epoch 24/30\n",
            "12/12 [==============================] - 1s 42ms/step - loss: 0.0049\n",
            "Epoch 25/30\n",
            "12/12 [==============================] - 0s 41ms/step - loss: 0.0042\n",
            "Epoch 26/30\n",
            "12/12 [==============================] - 1s 42ms/step - loss: 0.0041\n",
            "Epoch 27/30\n",
            "12/12 [==============================] - 1s 42ms/step - loss: 0.0041\n",
            "Epoch 28/30\n",
            "12/12 [==============================] - 1s 43ms/step - loss: 0.0032\n",
            "Epoch 29/30\n",
            "12/12 [==============================] - 1s 44ms/step - loss: 0.0037\n",
            "Epoch 30/30\n",
            "12/12 [==============================] - 1s 42ms/step - loss: 0.0034\n"
          ],
          "name": "stdout"
        },
        {
          "output_type": "execute_result",
          "data": {
            "text/plain": [
              "<tensorflow.python.keras.callbacks.History at 0x7f887d61d210>"
            ]
          },
          "metadata": {
            "tags": []
          },
          "execution_count": 12
        }
      ]
    },
    {
      "cell_type": "code",
      "metadata": {
        "id": "8b03d36d-30ea-4cc0-b9b9-9983717ccb9a"
      },
      "source": [
        "test_start = dt.datetime(2021,6,29)\n",
        "test_end = dt.datetime.now()\n",
        "\n",
        "ETH_data = web.DataReader(f\"{crypto}-{currency}\", \"yahoo\", start, end)"
      ],
      "id": "8b03d36d-30ea-4cc0-b9b9-9983717ccb9a",
      "execution_count": 43,
      "outputs": []
    },
    {
      "cell_type": "code",
      "metadata": {
        "id": "86db9f99-d5b0-42d4-a447-3fd0f58f9d3a"
      },
      "source": [
        "ETH_data.index = pd.to_datetime(ETH_data.index)"
      ],
      "id": "86db9f99-d5b0-42d4-a447-3fd0f58f9d3a",
      "execution_count": 44,
      "outputs": []
    },
    {
      "cell_type": "code",
      "metadata": {
        "tags": [],
        "colab": {
          "base_uri": "https://localhost:8080/",
          "height": 450
        },
        "id": "f90685a2-3265-42b3-9306-cc2a470f86ca",
        "outputId": "e47254d0-e423-4680-b4af-d5b6b393c068"
      },
      "source": [
        "ETH_data"
      ],
      "id": "f90685a2-3265-42b3-9306-cc2a470f86ca",
      "execution_count": 45,
      "outputs": [
        {
          "output_type": "execute_result",
          "data": {
            "text/html": [
              "<div>\n",
              "<style scoped>\n",
              "    .dataframe tbody tr th:only-of-type {\n",
              "        vertical-align: middle;\n",
              "    }\n",
              "\n",
              "    .dataframe tbody tr th {\n",
              "        vertical-align: top;\n",
              "    }\n",
              "\n",
              "    .dataframe thead th {\n",
              "        text-align: right;\n",
              "    }\n",
              "</style>\n",
              "<table border=\"1\" class=\"dataframe\">\n",
              "  <thead>\n",
              "    <tr style=\"text-align: right;\">\n",
              "      <th></th>\n",
              "      <th>High</th>\n",
              "      <th>Low</th>\n",
              "      <th>Open</th>\n",
              "      <th>Close</th>\n",
              "      <th>Volume</th>\n",
              "      <th>Adj Close</th>\n",
              "    </tr>\n",
              "    <tr>\n",
              "      <th>Date</th>\n",
              "      <th></th>\n",
              "      <th></th>\n",
              "      <th></th>\n",
              "      <th></th>\n",
              "      <th></th>\n",
              "      <th></th>\n",
              "    </tr>\n",
              "  </thead>\n",
              "  <tbody>\n",
              "    <tr>\n",
              "      <th>2020-05-28</th>\n",
              "      <td>224.216873</td>\n",
              "      <td>218.238052</td>\n",
              "      <td>219.925049</td>\n",
              "      <td>220.675125</td>\n",
              "      <td>1.226582e+10</td>\n",
              "      <td>220.675125</td>\n",
              "    </tr>\n",
              "    <tr>\n",
              "      <th>2020-05-29</th>\n",
              "      <td>243.943146</td>\n",
              "      <td>218.744461</td>\n",
              "      <td>220.717209</td>\n",
              "      <td>242.345596</td>\n",
              "      <td>1.502740e+10</td>\n",
              "      <td>242.345596</td>\n",
              "    </tr>\n",
              "    <tr>\n",
              "      <th>2020-05-30</th>\n",
              "      <td>244.045258</td>\n",
              "      <td>230.052826</td>\n",
              "      <td>242.351379</td>\n",
              "      <td>230.975708</td>\n",
              "      <td>1.223490e+10</td>\n",
              "      <td>230.975708</td>\n",
              "    </tr>\n",
              "    <tr>\n",
              "      <th>2020-05-31</th>\n",
              "      <td>248.236282</td>\n",
              "      <td>230.488052</td>\n",
              "      <td>230.860260</td>\n",
              "      <td>246.991760</td>\n",
              "      <td>1.395173e+10</td>\n",
              "      <td>246.991760</td>\n",
              "    </tr>\n",
              "    <tr>\n",
              "      <th>2020-06-01</th>\n",
              "      <td>252.222000</td>\n",
              "      <td>233.225296</td>\n",
              "      <td>246.828186</td>\n",
              "      <td>237.219055</td>\n",
              "      <td>1.378211e+10</td>\n",
              "      <td>237.219055</td>\n",
              "    </tr>\n",
              "    <tr>\n",
              "      <th>...</th>\n",
              "      <td>...</td>\n",
              "      <td>...</td>\n",
              "      <td>...</td>\n",
              "      <td>...</td>\n",
              "      <td>...</td>\n",
              "      <td>...</td>\n",
              "    </tr>\n",
              "    <tr>\n",
              "      <th>2021-06-24</th>\n",
              "      <td>2017.759521</td>\n",
              "      <td>1794.400391</td>\n",
              "      <td>1989.215820</td>\n",
              "      <td>1813.217285</td>\n",
              "      <td>2.277433e+10</td>\n",
              "      <td>1813.217285</td>\n",
              "    </tr>\n",
              "    <tr>\n",
              "      <th>2021-06-25</th>\n",
              "      <td>1850.179810</td>\n",
              "      <td>1719.559448</td>\n",
              "      <td>1810.884277</td>\n",
              "      <td>1829.239258</td>\n",
              "      <td>2.063754e+10</td>\n",
              "      <td>1829.239258</td>\n",
              "    </tr>\n",
              "    <tr>\n",
              "      <th>2021-06-26</th>\n",
              "      <td>1979.958130</td>\n",
              "      <td>1811.245850</td>\n",
              "      <td>1830.996948</td>\n",
              "      <td>1978.894653</td>\n",
              "      <td>1.988547e+10</td>\n",
              "      <td>1978.894653</td>\n",
              "    </tr>\n",
              "    <tr>\n",
              "      <th>2021-06-27</th>\n",
              "      <td>2139.805420</td>\n",
              "      <td>1963.615479</td>\n",
              "      <td>1981.386475</td>\n",
              "      <td>2079.657471</td>\n",
              "      <td>2.551460e+10</td>\n",
              "      <td>2079.657471</td>\n",
              "    </tr>\n",
              "    <tr>\n",
              "      <th>2021-06-29</th>\n",
              "      <td>2242.238770</td>\n",
              "      <td>2082.025879</td>\n",
              "      <td>2082.025879</td>\n",
              "      <td>2212.223389</td>\n",
              "      <td>2.545067e+10</td>\n",
              "      <td>2212.223389</td>\n",
              "    </tr>\n",
              "  </tbody>\n",
              "</table>\n",
              "<p>394 rows × 6 columns</p>\n",
              "</div>"
            ],
            "text/plain": [
              "                   High          Low  ...        Volume    Adj Close\n",
              "Date                                  ...                           \n",
              "2020-05-28   224.216873   218.238052  ...  1.226582e+10   220.675125\n",
              "2020-05-29   243.943146   218.744461  ...  1.502740e+10   242.345596\n",
              "2020-05-30   244.045258   230.052826  ...  1.223490e+10   230.975708\n",
              "2020-05-31   248.236282   230.488052  ...  1.395173e+10   246.991760\n",
              "2020-06-01   252.222000   233.225296  ...  1.378211e+10   237.219055\n",
              "...                 ...          ...  ...           ...          ...\n",
              "2021-06-24  2017.759521  1794.400391  ...  2.277433e+10  1813.217285\n",
              "2021-06-25  1850.179810  1719.559448  ...  2.063754e+10  1829.239258\n",
              "2021-06-26  1979.958130  1811.245850  ...  1.988547e+10  1978.894653\n",
              "2021-06-27  2139.805420  1963.615479  ...  2.551460e+10  2079.657471\n",
              "2021-06-29  2242.238770  2082.025879  ...  2.545067e+10  2212.223389\n",
              "\n",
              "[394 rows x 6 columns]"
            ]
          },
          "metadata": {
            "tags": []
          },
          "execution_count": 45
        }
      ]
    },
    {
      "cell_type": "code",
      "metadata": {
        "id": "4db2b432-5da0-45e0-b8cf-df057ca0024e"
      },
      "source": [
        "actual_prices = ETH_data['Close']"
      ],
      "id": "4db2b432-5da0-45e0-b8cf-df057ca0024e",
      "execution_count": 46,
      "outputs": []
    },
    {
      "cell_type": "code",
      "metadata": {
        "collapsed": true,
        "jupyter": {
          "outputs_hidden": true
        },
        "tags": [],
        "colab": {
          "base_uri": "https://localhost:8080/"
        },
        "id": "64ba528c-2c22-47ba-b0d9-6ad9484bd4b3",
        "outputId": "4443ad96-0b42-4305-9bfb-b7e1d7eadb94"
      },
      "source": [
        "actual_prices = np.array(actual_prices)\n",
        "actual_prices"
      ],
      "id": "64ba528c-2c22-47ba-b0d9-6ad9484bd4b3",
      "execution_count": 47,
      "outputs": [
        {
          "output_type": "execute_result",
          "data": {
            "text/plain": [
              "array([ 220.67512512,  242.34559631,  230.97570801,  246.99176025,\n",
              "        237.21905518,  244.17932129,  244.4263916 ,  241.22198486,\n",
              "        241.93132019,  245.16725159,  246.30990601,  244.91145325,\n",
              "        247.44494629,  231.70266724,  237.49320984,  238.90884399,\n",
              "        234.11470032,  229.9289093 ,  234.41616821,  233.02827454,\n",
              "        232.10116577,  227.13829041,  229.27426147,  228.98982239,\n",
              "        242.53318787,  244.14215088,  235.77246094,  232.94448853,\n",
              "        229.66804504,  222.95979309,  225.34716797,  228.19487   ,\n",
              "        226.31500244,  231.11341858,  229.39219666,  225.3870697 ,\n",
              "        229.07411194,  227.66459656,  241.51022339,  239.07553101,\n",
              "        246.67001343,  243.01596069,  240.98498535,  239.45817566,\n",
              "        242.13169861,  239.60458374,  240.21148682,  238.42352295,\n",
              "        233.6408844 ,  232.77308655,  235.48381042,  238.48751831,\n",
              "        236.15316772,  245.01672363,  262.19064331,  274.6890564 ,\n",
              "        279.21542358,  304.0567627 ,  309.64361572,  321.51409912,\n",
              "        316.65725708,  318.19088745,  334.5866394 ,  345.55465698,\n",
              "        385.19970703,  370.67172241,  386.29516602,  389.87548828,\n",
              "        401.59057617,  394.96194458,  379.5128479 ,  393.98736572,\n",
              "        391.12045288,  395.88757324,  380.38406372,  391.02416992,\n",
              "        428.74179077,  437.39782715,  433.35491943,  433.78662109,\n",
              "        429.53125   ,  423.66931152,  406.46377563,  416.43978882,\n",
              "        389.12634277,  395.83514404,  391.38449097,  408.14419556,\n",
              "        384.0010376 ,  386.46612549,  382.63262939,  395.87466431,\n",
              "        399.92147827,  428.39572144,  435.07974243,  477.0519104 ,\n",
              "        440.04049683,  385.67193604,  388.2411499 ,  335.2600708 ,\n",
              "        353.36227417,  352.67349243,  337.60211182,  351.11001587,\n",
              "        368.10189819,  374.69558716,  387.18310547,  365.57000732,\n",
              "        377.26885986,  364.83920288,  365.81228638,  389.01922607,\n",
              "        384.36453247,  385.54437256,  371.05282593,  341.78607178,\n",
              "        344.50317383,  320.58554077,  349.35665894,  352.16186523,\n",
              "        354.965271  ,  357.32168579,  354.95050049,  359.96340942,\n",
              "        360.02236938,  353.23129272,  346.53265381,  347.32159424,\n",
              "        353.12191772,  354.27709961,  341.02114868,  342.11978149,\n",
              "        351.45565796,  370.96759033,  375.14205933,  379.48403931,\n",
              "        377.4418335 ,  366.22900391,  368.85592651,  378.21368408,\n",
              "        379.93560791,  369.13690186,  392.18997192,  413.77297974,\n",
              "        409.76669312,  412.45761108,  406.21777344,  393.88830566,\n",
              "        403.99703979,  388.65075684,  386.73010254,  382.81997681,\n",
              "        386.59033203,  396.35818481,  383.15673828,  387.60217285,\n",
              "        402.14199829,  414.06735229,  454.71929932,  435.71313477,\n",
              "        453.55477905,  444.16305542,  449.67962646,  462.96054077,\n",
              "        461.00527954,  474.62643433,  460.14984131,  447.55908203,\n",
              "        459.94030762,  480.3600769 ,  479.48406982,  471.63043213,\n",
              "        509.74456787,  549.4866333 ,  558.06811523,  608.45404053,\n",
              "        603.89776611,  570.68664551,  518.80114746,  517.49371338,\n",
              "        538.22979736,  575.75805664,  614.8425293 ,  587.32415771,\n",
              "        598.35235596,  616.70874023,  569.35418701,  596.59545898,\n",
              "        601.90899658,  591.84338379,  554.82775879,  573.47912598,\n",
              "        559.67852783,  545.79736328,  568.56732178,  589.66320801,\n",
              "        586.01116943,  589.35559082,  636.18182373,  642.86895752,\n",
              "        654.81195068,  659.2979126 ,  638.29083252,  609.81787109,\n",
              "        634.85418701,  583.71459961,  611.60717773,  626.41070557,\n",
              "        635.83581543,  682.64233398,  730.39733887,  731.5201416 ,\n",
              "        751.61895752,  737.80340576,  730.36755371,  774.53497314,\n",
              "        975.50769043, 1040.23303223, 1100.00610352, 1207.11218262,\n",
              "       1225.67810059, 1224.19714355, 1281.07727051, 1262.2467041 ,\n",
              "       1090.14538574, 1043.43457031, 1130.73937988, 1218.45300293,\n",
              "       1171.83459473, 1233.53759766, 1230.17224121, 1257.27954102,\n",
              "       1377.29589844, 1382.27404785, 1121.57092285, 1236.51220703,\n",
              "       1230.99060059, 1391.609375  , 1324.41479492, 1357.05810547,\n",
              "       1253.18713379, 1298.10180664, 1382.52282715, 1376.11547852,\n",
              "       1314.98620605, 1369.04052734, 1515.19372559, 1660.9095459 ,\n",
              "       1594.76269531, 1718.65087891, 1677.84680176, 1614.2277832 ,\n",
              "       1746.61682129, 1768.03503418, 1744.2434082 , 1783.79797363,\n",
              "       1843.53259277, 1814.10986328, 1805.08410645, 1779.79101562,\n",
              "       1781.06750488, 1848.45825195, 1937.44921875, 1960.16479492,\n",
              "       1919.53405762, 1935.60107422, 1781.99291992, 1570.20397949,\n",
              "       1626.57568359, 1475.70373535, 1446.03369141, 1459.97314453,\n",
              "       1416.0489502 , 1564.7076416 , 1492.60876465, 1575.85314941,\n",
              "       1541.91430664, 1533.27502441, 1654.74157715, 1723.15380859,\n",
              "       1834.72790527, 1868.04882812, 1799.16625977, 1826.19494629,\n",
              "       1772.10241699, 1924.6854248 , 1854.56433105, 1791.70227051,\n",
              "       1806.97180176, 1823.44934082, 1782.85510254, 1817.62414551,\n",
              "       1812.63464355, 1788.21704102, 1691.33398438, 1678.65014648,\n",
              "       1593.41345215, 1595.35925293, 1702.84204102, 1716.49462891,\n",
              "       1819.68493652, 1691.35595703, 1846.03369141, 1918.36206055,\n",
              "       1977.27685547, 2143.22558594, 2028.42248535, 2093.12280273,\n",
              "       2107.88720703, 2118.37890625, 1971.07727051, 2088.57373047,\n",
              "       2072.10888672, 2135.94213867, 2157.65698242, 2139.35327148,\n",
              "       2299.18774414, 2435.10498047, 2519.11621094, 2431.9465332 ,\n",
              "       2344.89501953, 2237.13696289, 2166.1887207 , 2330.2109375 ,\n",
              "       2364.75170898, 2403.53515625, 2363.58618164, 2211.62573242,\n",
              "       2316.05957031, 2534.48168945, 2662.86523438, 2746.38012695,\n",
              "       2756.87695312, 2773.20703125, 2945.89282227, 2952.05615234,\n",
              "       3431.08618164, 3253.62939453, 3522.78320312, 3490.88037109,\n",
              "       3484.72900391, 3902.64770508, 3928.84472656, 3952.29394531,\n",
              "       4168.70117188, 3785.84863281, 3715.1484375 , 4079.05737305,\n",
              "       3638.12207031, 3587.50610352, 3282.39770508, 3380.07006836,\n",
              "       2460.67919922, 2784.29418945, 2430.62133789, 2295.70556641,\n",
              "       2109.57983398, 2643.59106445, 2706.62890625, 2888.69873047,\n",
              "       2736.48852539, 2419.90625   , 2279.51416016, 2390.30541992,\n",
              "       2714.9453125 , 2633.51831055, 2706.125     , 2855.12646484,\n",
              "       2688.19506836, 2630.5769043 , 2715.09277344, 2590.26318359,\n",
              "       2517.4387207 , 2608.26708984, 2471.51855469, 2353.76879883,\n",
              "       2372.484375  , 2508.39160156, 2537.89111328, 2610.93676758,\n",
              "       2367.66357422, 2372.00195312, 2231.7331543 , 2178.49902344,\n",
              "       2246.36450195, 1888.44750977, 1874.95007324, 1989.73632812,\n",
              "       1988.45629883, 1813.21728516, 1829.23925781, 1978.89465332,\n",
              "       2079.6574707 , 2212.22338867])"
            ]
          },
          "metadata": {
            "tags": []
          },
          "execution_count": 47
        }
      ]
    },
    {
      "cell_type": "code",
      "metadata": {
        "id": "86bd7e60-64d5-445d-aaa4-0414f4eff880"
      },
      "source": [
        "total_dataset = pd.concat((data['Close'], ETH_data['Close']), axis=0)"
      ],
      "id": "86bd7e60-64d5-445d-aaa4-0414f4eff880",
      "execution_count": 48,
      "outputs": []
    },
    {
      "cell_type": "code",
      "metadata": {
        "id": "ef63757c-f0ba-4c4a-943a-9a0d7dafae6a"
      },
      "source": [
        "total_dataset.index = pd.to_datetime(total_dataset.index)"
      ],
      "id": "ef63757c-f0ba-4c4a-943a-9a0d7dafae6a",
      "execution_count": 49,
      "outputs": []
    },
    {
      "cell_type": "code",
      "metadata": {
        "id": "458c721a-09be-404a-afd7-a8ec37ae56d2"
      },
      "source": [
        "model_inputs = total_dataset[len(total_dataset)-len(ETH_data)-pred_days:].values\n",
        "model_inputs = model_inputs.reshape(-1, 1)\n",
        "model_inputs = scaler.fit_transform(model_inputs)"
      ],
      "id": "458c721a-09be-404a-afd7-a8ec37ae56d2",
      "execution_count": 50,
      "outputs": []
    },
    {
      "cell_type": "code",
      "metadata": {
        "id": "f76ddf18-320f-446c-9f16-26955daf8f91"
      },
      "source": [
        "x_test = []\n",
        "\n",
        "for x in range(pred_days, len(model_inputs)):\n",
        "  x_test.append(model_inputs[x-pred_days:x, 0])\n",
        "\n",
        "x_test = np.array(x_test)\n",
        "x_test = np.reshape(x_test, (x_test.shape[0], x_test.shape[1], 1))"
      ],
      "id": "f76ddf18-320f-446c-9f16-26955daf8f91",
      "execution_count": 51,
      "outputs": []
    },
    {
      "cell_type": "code",
      "metadata": {
        "id": "adc7f01a-e745-478b-aeab-bab9858667f4"
      },
      "source": [
        "prediction_prices = model.predict(x_test)\n",
        "prediction_prices = scaler.inverse_transform(prediction_prices)"
      ],
      "id": "adc7f01a-e745-478b-aeab-bab9858667f4",
      "execution_count": 52,
      "outputs": []
    },
    {
      "cell_type": "code",
      "metadata": {
        "colab": {
          "base_uri": "https://localhost:8080/",
          "height": 295
        },
        "id": "1c088813-9cc7-4be0-8520-edb333bdfa1f",
        "outputId": "d268c942-77b1-4ebc-e6fb-98e42884b12d"
      },
      "source": [
        "plt.plot(actual_prices, color='red', label='Actual Prices')\n",
        "plt.plot(prediction_prices, color='green', label='Prediction Prices')\n",
        "plt.title(f\"{crypto}-{currency} Price Predictor\")\n",
        "plt.xlabel(\"Time\")\n",
        "plt.ylabel(\"Price\")\n",
        "plt.legend(loc=\"upper left\")\n",
        "plt.show()"
      ],
      "id": "1c088813-9cc7-4be0-8520-edb333bdfa1f",
      "execution_count": 53,
      "outputs": [
        {
          "output_type": "display_data",
          "data": {
            "image/png": "[encoded data removed]",
            "text/plain": [
              "<Figure size 432x288 with 1 Axes>"
            ]
          },
          "metadata": {
            "tags": [],
            "needs_background": "light"
          }
        }
      ]
    },
    {
      "cell_type": "code",
      "metadata": {
        "id": "82cc8131-ee92-45e1-971e-cc993ea3f90a"
      },
      "source": [
        ""
      ],
      "id": "82cc8131-ee92-45e1-971e-cc993ea3f90a",
      "execution_count": null,
      "outputs": []
    },
    {
      "cell_type": "code",
      "metadata": {
        "id": "96125ca3-5a40-4d36-9327-55351c27014e"
      },
      "source": [
        ""
      ],
      "id": "96125ca3-5a40-4d36-9327-55351c27014e",
      "execution_count": null,
      "outputs": []
    }
  ]
}