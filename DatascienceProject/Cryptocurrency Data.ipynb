{
 "cells": [
  {
   "cell_type": "code",
   "execution_count": 1,
   "id": "6e1f29e8-da17-4c94-af3e-45b734f62fb4",
   "metadata": {},
   "outputs": [],
   "source": [
    "#Example code"
   ]
  },
  {
   "cell_type": "code",
   "execution_count": null,
   "id": "3c461050-64e5-4104-a301-292f3c0fde17",
   "metadata": {},
   "outputs": [],
   "source": [
    "#Being happy is number 1 in my book"
   ]
  },
  {
   "cell_type": "code",
   "execution_count": null,
   "id": "3d8803e2-e3f4-4c9d-885e-df03cf1d66c2",
   "metadata": {},
   "outputs": [],
   "source": [
    "happy = 1"
   ]
  }
 ],
 "metadata": {
  "kernelspec": {
   "display_name": "Python 3",
   "language": "python",
   "name": "python3"
  },
  "language_info": {
   "codemirror_mode": {
    "name": "ipython",
    "version": 3
   },
   "file_extension": ".py",
   "mimetype": "text/x-python",
   "name": "python",
   "nbconvert_exporter": "python",
   "pygments_lexer": "ipython3",
   "version": "3.8.8"
  }
 },
 "nbformat": 4,
 "nbformat_minor": 5
}
