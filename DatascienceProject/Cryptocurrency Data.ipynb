{
 "cells": [
  {
   "cell_type": "code",
   "execution_count": 1,
   "id": "6e1f29e8-da17-4c94-af3e-45b734f62fb4",
   "metadata": {},
   "outputs": [],
   "source": [
    "#Example code"
   ]
  },
  {
   "cell_type": "code",
   "execution_count": null,
   "id": "3c461050-64e5-4104-a301-292f3c0fde17",
   "metadata": {},
   "outputs": [],
   "source": [
    "#Being happy is number 1 in my book"
   ]
  },
  {
   "cell_type": "code",
   "execution_count": null,
   "id": "3d8803e2-e3f4-4c9d-885e-df03cf1d66c2",
   "metadata": {},
   "outputs": [],
   "source": [
    "happy = 1"
   ]
  },
  {
   "cell_type": "code",
   "execution_count": 2,
   "id": "17205a24",
   "metadata": {},
   "outputs": [
    {
     "name": "stdout",
     "output_type": "stream",
     "text": [
      "test\n"
     ]
    }
   ],
   "source": [
    "print('test')"
   ]
  },
  {
   "cell_type": "code",
   "execution_count": 2,
   "id": "a5ac073f-5338-4201-8ae5-b7db7e521422",
   "metadata": {},
   "outputs": [
    {
     "name": "stdout",
     "output_type": "stream",
     "text": [
      "Hello World!\n"
     ]
    }
   ],
   "source": [
    "print(\"Hello World!\")"
   ]
  },
  {
   "cell_type": "code",
   "execution_count": 3,
   "id": "3da7ec53-2960-47e1-a6ec-655d4bbe2635",
   "metadata": {},
   "outputs": [
    {
     "name": "stdout",
     "output_type": "stream",
     "text": [
      "Hello Sovika\n"
     ]
    }
   ],
   "source": [
    "print(\"Hello Sovika\")"
   ]
  },
  {
   "cell_type": "code",
   "execution_count": 1,
   "id": "5d428f1d-7242-461d-85a6-0ca2f538cd41",
   "metadata": {},
   "outputs": [
    {
     "data": {
      "text/plain": [
       "4"
      ]
     },
     "execution_count": 1,
     "metadata": {},
     "output_type": "execute_result"
    }
   ],
   "source": [
    "2+2"
   ]
  },
  {
   "cell_type": "code",
   "execution_count": null,
   "id": "15988e36-c22b-4b42-bef9-eadad86ed6fc",
   "metadata": {},
   "outputs": [],
   "source": [
    "print(\"Hey! What's up?\")"
   ]
  },
  {
   "cell_type": "code",
   "execution_count": null,
   "id": "f1b29f80-6e48-4035-a330-4c99eb1da88e",
   "metadata": {},
   "outputs": [],
   "source": []
  },
  {
   "cell_type": "code",
   "execution_count": null,
   "id": "bbf1ffe6-fef1-43f1-bfb4-4204988f8e52",
   "metadata": {},
   "outputs": [],
   "source": []
  },
  {
   "cell_type": "code",
   "execution_count": null,
   "id": "6495d725-d8b7-4461-b437-2118a92a23ee",
   "metadata": {},
   "outputs": [],
   "source": []
  },
  {
   "cell_type": "code",
   "execution_count": null,
   "id": "d035e6a9-3a38-47d1-88b3-2329ddfd88da",
   "metadata": {},
   "outputs": [],
   "source": []
  },
  {
   "cell_type": "code",
   "execution_count": null,
   "id": "5abd2cb1-29bc-4f81-9178-4288212b231a",
   "metadata": {},
   "outputs": [],
   "source": []
  },
  {
   "cell_type": "code",
   "execution_count": null,
   "id": "8995e94c-b209-4102-b784-ac3a8e58ed72",
   "metadata": {},
   "outputs": [],
   "source": []
  },
  {
   "cell_type": "code",
   "execution_count": null,
   "id": "6c407241-0894-453d-a0bf-81a26caac7f9",
   "metadata": {},
   "outputs": [],
   "source": []
  },
  {
   "cell_type": "code",
   "execution_count": null,
   "id": "529f44f8-09da-4eb7-b003-d72004e6fb99",
   "metadata": {},
   "outputs": [],
   "source": []
  },
  {
   "cell_type": "code",
   "execution_count": null,
   "id": "371e011c-07d5-44f3-840f-1db5cfb0a098",
   "metadata": {},
   "outputs": [],
   "source": [
    "print(\"IT WORKED!\")"
   ]
  },
  {
   "cell_type": "code",
   "execution_count": 2,
   "id": "9d0559bc-69fe-4223-949b-6b420a1037b8",
   "metadata": {},
   "outputs": [
    {
     "name": "stdout",
     "output_type": "stream",
     "text": [
      "We are writing code at the same time.\n"
     ]
    }
   ],
   "source": [
    "print(\"We are writing code at the same time.\")"
   ]
  },
  {
   "cell_type": "code",
   "execution_count": null,
   "id": "b5b56fc7-99f0-40fb-bd13-e4e0dad2d2c4",
   "metadata": {},
   "outputs": [],
   "source": []
  }
 ],
 "metadata": {
  "kernelspec": {
   "display_name": "Python 3",
   "language": "python",
   "name": "python3"
  },
  "language_info": {
   "codemirror_mode": {
    "name": "ipython",
    "version": 3
   },
   "file_extension": ".py",
   "mimetype": "text/x-python",
   "name": "python",
   "nbconvert_exporter": "python",
   "pygments_lexer": "ipython3",
   "version": "3.8.8"
  }
 },
 "nbformat": 4,
 "nbformat_minor": 5
}
