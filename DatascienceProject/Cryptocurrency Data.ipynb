{
 "cells": [
  {
   "cell_type": "code",
   "execution_count": 1,
   "id": "6e1f29e8-da17-4c94-af3e-45b734f62fb4",
   "metadata": {},
   "outputs": [],
   "source": [
    "#Example code"
   ]
  },
  {
   "cell_type": "code",
   "execution_count": null,
   "id": "3c461050-64e5-4104-a301-292f3c0fde17",
   "metadata": {},
   "outputs": [],
   "source": [
    "#Being happy is number 1 in my book"
   ]
  },
  {
   "cell_type": "code",
   "execution_count": null,
   "id": "3d8803e2-e3f4-4c9d-885e-df03cf1d66c2",
   "metadata": {},
   "outputs": [],
   "source": [
    "happy = 1"
   ]
  },
  {
   "cell_type": "markdown",
   "id": "1f2c91bc-bdcc-49e3-bbbe-7bfee8fe8b46",
   "metadata": {},
   "source": [
    "6+6"
   ]
  },
  {
   "cell_type": "code",
   "execution_count": 4,
   "id": "3295dce0-b928-4059-a0f0-85965a88e507",
   "metadata": {},
   "outputs": [
    {
     "name": "stdin",
     "output_type": "stream",
     "text": [
      "What is your name? 3\n"
     ]
    }
   ],
   "source": [
    "value = int(input('What is your name?'))"
   ]
  },
  {
   "cell_type": "code",
   "execution_count": 5,
   "id": "4a14d5e4-4dee-4227-b1aa-2774ecbdde47",
   "metadata": {},
   "outputs": [
    {
     "name": "stdin",
     "output_type": "stream",
     "text": [
      "What is your name? 5\n"
     ]
    }
   ],
   "source": [
    "value1 = int(input('What is your name?'))"
   ]
  },
  {
   "cell_type": "code",
   "execution_count": 6,
   "id": "b1d0f3fc-819e-498a-81a2-433a8bb4c4b5",
   "metadata": {},
   "outputs": [
    {
     "data": {
      "text/plain": [
       "8"
      ]
     },
     "execution_count": 6,
     "metadata": {},
     "output_type": "execute_result"
    }
   ],
   "source": [
    "value + value1"
   ]
  },
  {
   "cell_type": "code",
   "execution_count": 7,
   "id": "45267dee-e389-4403-9ca6-e29604c10e48",
   "metadata": {},
   "outputs": [
    {
     "data": {
      "text/plain": [
       "10"
      ]
     },
     "execution_count": 7,
     "metadata": {},
     "output_type": "execute_result"
    }
   ],
   "source": [
    "int(10.5)"
   ]
  },
  {
   "cell_type": "code",
   "execution_count": null,
   "id": "13f48f2a-5f85-46f0-bdbc-7cb382f36b06",
   "metadata": {},
   "outputs": [],
   "source": []
  }
 ],
 "metadata": {
  "kernelspec": {
   "display_name": "Python 3",
   "language": "python",
   "name": "python3"
  },
  "language_info": {
   "codemirror_mode": {
    "name": "ipython",
    "version": 3
   },
   "file_extension": ".py",
   "mimetype": "text/x-python",
   "name": "python",
   "nbconvert_exporter": "python",
   "pygments_lexer": "ipython3",
   "version": "3.8.8"
  }
 },
 "nbformat": 4,
 "nbformat_minor": 5
}
